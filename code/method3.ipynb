{
 "cells": [
  {
   "cell_type": "code",
   "execution_count": 11,
   "metadata": {},
   "outputs": [],
   "source": [
    "import os\n",
    "\n",
    "import pandas as pd\n",
    "import numpy as np\n",
    "\n",
    "from sklearn.metrics import classification_report, accuracy_score\n",
    "from sklearn.preprocessing import LabelEncoder\n",
    "\n",
    "import tensorflow\n",
    "\n",
    "from tensorflow.keras.models import Sequential\n",
    "from tensorflow.keras.layers import Conv2D, MaxPooling2D, GlobalAveragePooling2D, Flatten, Dense, Dropout\n",
    "from tensorflow.keras.preprocessing.image import ImageDataGenerator\n",
    "\n",
    "from tensorflow.keras.applications import InceptionV3\n",
    "from tensorflow.keras.models import Model\n",
    "from tensorflow.keras.optimizers import Adam\n"
   ]
  },
  {
   "cell_type": "code",
   "execution_count": 3,
   "metadata": {},
   "outputs": [],
   "source": [
    "kaggle_train_path = \"../data/train\"\n",
    "kaggle_test_path = \"../data/test\"\n",
    "\n",
    "features_path = \"../features\"\n",
    "painters_path = \"../data/artists.csv\"\n",
    "\n",
    "kaggle_painter_names = os.listdir(kaggle_train_path)\n",
    "painters = pd.read_csv(painters_path)\n",
    "painters = painters[\"name\"]"
   ]
  },
  {
   "cell_type": "markdown",
   "metadata": {},
   "source": [
    "# CNN Model"
   ]
  },
  {
   "cell_type": "code",
   "execution_count": 17,
   "metadata": {},
   "outputs": [],
   "source": [
    "cnn_height = 255\n",
    "cnn_width = 255\n",
    "cnn_batch_size = 32"
   ]
  },
  {
   "cell_type": "code",
   "execution_count": 18,
   "metadata": {},
   "outputs": [
    {
     "name": "stdout",
     "output_type": "stream",
     "text": [
      "Found 6735 images belonging to 50 classes.\n",
      "Found 1711 images belonging to 50 classes.\n"
     ]
    }
   ],
   "source": [
    "cnn_train_datagen = ImageDataGenerator(\n",
    "    rescale=1./255,\n",
    "    shear_range=0.2,\n",
    "    zoom_range=0.2,\n",
    "    horizontal_flip=True\n",
    ")\n",
    "\n",
    "cnn_train_generator = cnn_train_datagen.flow_from_directory(\n",
    "    kaggle_train_path,\n",
    "    target_size=(cnn_height, cnn_width),\n",
    "    batch_size=cnn_batch_size,\n",
    "    class_mode='categorical'\n",
    ")\n",
    "\n",
    "cnn_test_datagen = ImageDataGenerator(rescale=1.0 / 255)\n",
    "\n",
    "cnn_test_generator = cnn_test_datagen.flow_from_directory(\n",
    "    kaggle_test_path,\n",
    "    target_size=(cnn_height, cnn_width),\n",
    "    batch_size=32,\n",
    "    class_mode=\"categorical\",\n",
    "    shuffle=False,\n",
    ")"
   ]
  },
  {
   "cell_type": "code",
   "execution_count": 19,
   "metadata": {},
   "outputs": [],
   "source": [
    "cnn_model = Sequential([\n",
    "    Conv2D(32, (3, 3), activation='relu', input_shape=(cnn_height, cnn_width, 3)),\n",
    "    MaxPooling2D((2, 2)),\n",
    "    Conv2D(64, (3, 3), activation='relu'),\n",
    "    MaxPooling2D((2, 2)),\n",
    "    Conv2D(128, (3, 3), activation='relu'),\n",
    "    MaxPooling2D((2, 2)),\n",
    "    Conv2D(128, (3, 3), activation='relu'),\n",
    "    MaxPooling2D((2, 2)),\n",
    "    Flatten(),\n",
    "    Dense(512, activation='relu'),\n",
    "    Dropout(0.5),\n",
    "    Dense(len(painters), activation='softmax')  # Number of output neurons equal to the number of painters\n",
    "])"
   ]
  },
  {
   "cell_type": "code",
   "execution_count": 20,
   "metadata": {},
   "outputs": [
    {
     "name": "stdout",
     "output_type": "stream",
     "text": [
      "Epoch 1/10\n",
      "211/211 [==============================] - 238s 1s/step - loss: 3.5128 - accuracy: 0.1228\n",
      "Epoch 2/10\n",
      "211/211 [==============================] - 237s 1s/step - loss: 3.1393 - accuracy: 0.1957\n",
      "Epoch 3/10\n",
      "211/211 [==============================] - 239s 1s/step - loss: 2.9217 - accuracy: 0.2364\n",
      "Epoch 4/10\n",
      "211/211 [==============================] - 235s 1s/step - loss: 2.7695 - accuracy: 0.2717\n",
      "Epoch 5/10\n",
      "211/211 [==============================] - 236s 1s/step - loss: 2.6505 - accuracy: 0.2980\n",
      "Epoch 6/10\n",
      "211/211 [==============================] - 236s 1s/step - loss: 2.4893 - accuracy: 0.3271\n",
      "Epoch 7/10\n",
      "211/211 [==============================] - 235s 1s/step - loss: 2.3830 - accuracy: 0.3614\n",
      "Epoch 8/10\n",
      "211/211 [==============================] - 235s 1s/step - loss: 2.2508 - accuracy: 0.3902\n",
      "Epoch 9/10\n",
      "211/211 [==============================] - 233s 1s/step - loss: 2.1118 - accuracy: 0.4148\n",
      "Epoch 10/10\n",
      "211/211 [==============================] - 237s 1s/step - loss: 2.0107 - accuracy: 0.4456\n",
      "54/54 [==============================] - 25s 453ms/step - loss: 2.3542 - accuracy: 0.3922\n",
      "CNN Test Accuracy: 0.3921683132648468\n"
     ]
    }
   ],
   "source": [
    "cnn_model.compile(optimizer='adam',\n",
    "              loss='categorical_crossentropy',\n",
    "              metrics=['accuracy'])\n",
    "\n",
    "cnn_model.fit(cnn_train_generator, epochs=10)\n",
    "\n",
    "cnn_test_loss, cnn_test_accuracy = cnn_model.evaluate(cnn_test_generator)\n",
    "print(f\"CNN Test Accuracy: {cnn_test_accuracy}\")"
   ]
  },
  {
   "cell_type": "code",
   "execution_count": 21,
   "metadata": {},
   "outputs": [],
   "source": [
    "cnn_model.save(\"../models/cnn_10_epochs_no_validation.h5\")"
   ]
  },
  {
   "cell_type": "markdown",
   "metadata": {},
   "source": [
    "# Optimization of CNN"
   ]
  },
  {
   "cell_type": "code",
   "execution_count": null,
   "metadata": {},
   "outputs": [],
   "source": [
    "import itertools"
   ]
  },
  {
   "cell_type": "code",
   "execution_count": null,
   "metadata": {},
   "outputs": [],
   "source": [
    "dropout_rates = [0.2, 0.3, 0.4]\n",
    "activation_funcs = ['relu', 'sigmoid', 'tanh']\n",
    "lr_epoch = [[0.001, 40], [0.01, 30], [0.1, 20]]\n",
    "kernel_size = [3, 5]"
   ]
  },
  {
   "cell_type": "code",
   "execution_count": null,
   "metadata": {},
   "outputs": [],
   "source": [
    "opt_cnn_model = Sequential([\n",
    "    Conv2D(32, (3, 3), activation='relu', input_shape=(cnn_height, cnn_width, 3)),\n",
    "    MaxPooling2D((2, 2)),\n",
    "    Conv2D(64, (3, 3), activation='relu'),\n",
    "    MaxPooling2D((2, 2)),\n",
    "    Conv2D(128, (3, 3), activation='relu'),\n",
    "    MaxPooling2D((2, 2)),\n",
    "    Conv2D(128, (3, 3), activation='relu'),\n",
    "    MaxPooling2D((2, 2)),\n",
    "    Flatten(),\n",
    "    Dense(512, activation='relu'),\n",
    "    Dropout(0.5),\n",
    "    Dense(len(painters), activation='softmax')  # Number of output neurons equal to the number of painters\n",
    "])"
   ]
  },
  {
   "cell_type": "code",
   "execution_count": null,
   "metadata": {},
   "outputs": [],
   "source": [
    "cnn_model.compile(optimizer='adam',\n",
    "              loss='categorical_crossentropy',\n",
    "              metrics=['accuracy'])\n",
    "\n",
    "cnn_model.fit(cnn_train_generator, epochs=10)\n",
    "\n",
    "cnn_test_loss, cnn_test_accuracy = cnn_model.evaluate(cnn_test_generator)\n",
    "print(f\"CNN Test Accuracy: {cnn_test_accuracy}\")"
   ]
  },
  {
   "cell_type": "markdown",
   "metadata": {},
   "source": [
    "# Inception V4"
   ]
  },
  {
   "cell_type": "code",
   "execution_count": 22,
   "metadata": {},
   "outputs": [],
   "source": [
    "inception_height = 299\n",
    "inception_width = 299\n",
    "input_shape = (inception_height, inception_width, 3) #because of RGB"
   ]
  },
  {
   "cell_type": "code",
   "execution_count": 23,
   "metadata": {},
   "outputs": [
    {
     "name": "stdout",
     "output_type": "stream",
     "text": [
      "Found 5411 images belonging to 50 classes.\n",
      "Found 1324 images belonging to 50 classes.\n",
      "Found 1711 images belonging to 50 classes.\n"
     ]
    }
   ],
   "source": [
    "inception_train_datagen = ImageDataGenerator(\n",
    "    rescale=1.0 / 255,\n",
    "    shear_range=0.2,\n",
    "    zoom_range=0.2,\n",
    "    horizontal_flip=True,\n",
    "    validation_split=0.2,\n",
    ")\n",
    "\n",
    "inception_test_datagen = ImageDataGenerator(rescale=1.0 / 255)\n",
    "\n",
    "inception_train_generator = inception_train_datagen.flow_from_directory(\n",
    "    kaggle_train_path,\n",
    "    target_size=(inception_height, inception_width),\n",
    "    batch_size=32,\n",
    "    class_mode=\"categorical\",\n",
    "    subset=\"training\",  #Use the training subset\n",
    ")\n",
    "\n",
    "inception_validation_generator = inception_train_datagen.flow_from_directory(\n",
    "    kaggle_train_path,\n",
    "    target_size=(inception_height, inception_width),\n",
    "    batch_size=32,\n",
    "    class_mode=\"categorical\",\n",
    "    subset=\"validation\",  #Use the validation subset\n",
    ")\n",
    "\n",
    "inception_test_generator = inception_test_datagen.flow_from_directory(\n",
    "    kaggle_test_path,\n",
    "    target_size=(inception_height, inception_width),\n",
    "    batch_size=32,\n",
    "    class_mode=\"categorical\",\n",
    "    shuffle=False,\n",
    ")"
   ]
  },
  {
   "cell_type": "code",
   "execution_count": 24,
   "metadata": {},
   "outputs": [],
   "source": [
    "inception_model = InceptionV3(\n",
    "    weights=\"imagenet\",\n",
    "    include_top=False,\n",
    "    input_shape=input_shape,\n",
    ")\n",
    "\n",
    "for layer in inception_model.layers:\n",
    "    layer.trainable = False"
   ]
  },
  {
   "cell_type": "code",
   "execution_count": 25,
   "metadata": {},
   "outputs": [],
   "source": [
    "x = GlobalAveragePooling2D()(inception_model.output)\n",
    "\n",
    "x = Dense(1024, activation=\"relu\")(x)\n",
    "\n",
    "x = Dense(512, activation=\"relu\")(x)\n",
    "\n",
    "\n",
    "#dropout, early stop\n",
    "\n",
    "\n",
    "\n",
    "inception_output = Dense(len(inception_train_generator.class_indices), activation=\"softmax\")(x)\n",
    "\n",
    "inception = Model(inputs=inception_model.input, outputs=inception_output)\n",
    "\n",
    "inception.compile(optimizer=Adam(), loss=\"categorical_crossentropy\", metrics=[\"accuracy\"])"
   ]
  },
  {
   "cell_type": "code",
   "execution_count": 26,
   "metadata": {},
   "outputs": [
    {
     "name": "stdout",
     "output_type": "stream",
     "text": [
      "Epoch 1/10\n",
      "169/169 [==============================] - 275s 2s/step - loss: 2.9794 - accuracy: 0.2540 - val_loss: 2.4341 - val_accuracy: 0.3537\n",
      "Epoch 2/10\n",
      "169/169 [==============================] - 269s 2s/step - loss: 2.0732 - accuracy: 0.4358 - val_loss: 2.0209 - val_accuracy: 0.4566\n",
      "Epoch 3/10\n",
      "169/169 [==============================] - 270s 2s/step - loss: 1.7367 - accuracy: 0.5285 - val_loss: 1.9677 - val_accuracy: 0.4741\n",
      "Epoch 4/10\n",
      "169/169 [==============================] - 274s 2s/step - loss: 1.4739 - accuracy: 0.5841 - val_loss: 1.8796 - val_accuracy: 0.4970\n",
      "Epoch 5/10\n",
      "169/169 [==============================] - 270s 2s/step - loss: 1.3266 - accuracy: 0.6155 - val_loss: 1.8634 - val_accuracy: 0.5023\n",
      "Epoch 6/10\n",
      "169/169 [==============================] - 270s 2s/step - loss: 1.1923 - accuracy: 0.6512 - val_loss: 1.7428 - val_accuracy: 0.5419\n",
      "Epoch 7/10\n",
      "169/169 [==============================] - 269s 2s/step - loss: 1.0757 - accuracy: 0.6760 - val_loss: 1.8177 - val_accuracy: 0.5328\n",
      "Epoch 8/10\n",
      "169/169 [==============================] - 268s 2s/step - loss: 0.9505 - accuracy: 0.7113 - val_loss: 1.7935 - val_accuracy: 0.5518\n",
      "Epoch 9/10\n",
      "169/169 [==============================] - 269s 2s/step - loss: 0.9078 - accuracy: 0.7276 - val_loss: 1.7699 - val_accuracy: 0.5511\n",
      "Epoch 10/10\n",
      "169/169 [==============================] - 268s 2s/step - loss: 0.8201 - accuracy: 0.7477 - val_loss: 1.7612 - val_accuracy: 0.5473\n",
      "54/54 [==============================] - 51s 945ms/step - loss: 1.6736 - accuracy: 0.5506\n",
      "Inception Test Accuracy: 0.5505552291870117\n"
     ]
    }
   ],
   "source": [
    "train_steps_per_epoch = inception_train_generator.samples // inception_train_generator.batch_size\n",
    "val_steps_per_epoch = inception_validation_generator.samples // inception_validation_generator.batch_size\n",
    "\n",
    "inception.fit(\n",
    "    inception_train_generator,\n",
    "    steps_per_epoch=train_steps_per_epoch,\n",
    "    validation_data=inception_validation_generator,\n",
    "    validation_steps=val_steps_per_epoch,\n",
    "    epochs=10,\n",
    ")\n",
    "\n",
    "# Evaluate the model on the test set\n",
    "inception_test_loss, inception_test_accuracy = inception.evaluate(inception_test_generator)\n",
    "print(f\"Inception Test Accuracy: {inception_test_accuracy}\")"
   ]
  },
  {
   "cell_type": "code",
   "execution_count": 27,
   "metadata": {},
   "outputs": [],
   "source": [
    "inception.save(\"../models/inceptionv3_10_epochs.h5\")"
   ]
  }
 ],
 "metadata": {
  "kernelspec": {
   "display_name": "Python 3",
   "language": "python",
   "name": "python3"
  },
  "language_info": {
   "codemirror_mode": {
    "name": "ipython",
    "version": 3
   },
   "file_extension": ".py",
   "mimetype": "text/x-python",
   "name": "python",
   "nbconvert_exporter": "python",
   "pygments_lexer": "ipython3",
   "version": "3.8.16"
  }
 },
 "nbformat": 4,
 "nbformat_minor": 2
}
