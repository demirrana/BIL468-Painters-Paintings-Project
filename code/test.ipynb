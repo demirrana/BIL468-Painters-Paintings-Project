{
 "cells": [
  {
   "cell_type": "code",
   "execution_count": 2,
   "metadata": {},
   "outputs": [],
   "source": [
    "import os\n",
    "import numpy as np\n",
    "import pandas as pd\n",
    "from tensorflow.keras.models import load_model\n",
    "from tensorflow.keras.preprocessing.image import ImageDataGenerator"
   ]
  },
  {
   "cell_type": "code",
   "execution_count": 3,
   "metadata": {},
   "outputs": [],
   "source": [
    "cnn_model_path = \"../models/cnn_10_epochs_no_validation.h5\"\n",
    "interception_model_path = \"../models/inceptionv3_10_epochs.h5\""
   ]
  },
  {
   "cell_type": "code",
   "execution_count": 4,
   "metadata": {},
   "outputs": [],
   "source": [
    "cnn = load_model(cnn_model_path)\n",
    "interception = load_model(interception_model_path)"
   ]
  },
  {
   "cell_type": "code",
   "execution_count": 5,
   "metadata": {},
   "outputs": [],
   "source": [
    "test_path = \"../data/sunum\""
   ]
  },
  {
   "cell_type": "code",
   "execution_count": 7,
   "metadata": {},
   "outputs": [
    {
     "name": "stdout",
     "output_type": "stream",
     "text": [
      "Found 20 images belonging to 13 classes.\n"
     ]
    }
   ],
   "source": [
    "test_datagen = ImageDataGenerator(rescale=1.0 / 255) #normalizes to range [0,1]\n",
    "\n",
    "test_generator = test_datagen.flow_from_directory(\n",
    "    test_path,\n",
    "    target_size=(255, 255),\n",
    "    batch_size=1,\n",
    "    class_mode='categorical',\n",
    "    shuffle=False,\n",
    ")"
   ]
  },
  {
   "cell_type": "code",
   "execution_count": 8,
   "metadata": {},
   "outputs": [
    {
     "name": "stdout",
     "output_type": "stream",
     "text": [
      "20/20 [==============================] - 1s 18ms/step\n"
     ]
    }
   ],
   "source": [
    "cnn_predictions = cnn.predict(test_generator)"
   ]
  },
  {
   "cell_type": "code",
   "execution_count": 9,
   "metadata": {},
   "outputs": [],
   "source": [
    "painters = os.listdir(\"../data/train\")"
   ]
  },
  {
   "cell_type": "code",
   "execution_count": 10,
   "metadata": {},
   "outputs": [],
   "source": [
    "predicted_cnn = []\n",
    "\n",
    "for pred in cnn_predictions:\n",
    "    class_index = np.argmax(pred)\n",
    "    painter = painters[class_index]\n",
    "    predicted_cnn.append(painter)"
   ]
  },
  {
   "cell_type": "code",
   "execution_count": 11,
   "metadata": {},
   "outputs": [
    {
     "data": {
      "text/plain": [
       "['Titian',\n",
       " 'Edgar_Degas',\n",
       " 'Paul_Klee',\n",
       " 'Paul_Gauguin',\n",
       " 'Vincent_van_Gogh',\n",
       " 'Vincent_van_Gogh',\n",
       " 'Titian',\n",
       " 'Edgar_Degas',\n",
       " 'Jan_van_Eyck',\n",
       " 'Andy_Warhol',\n",
       " 'Henri_de_Toulouse-Lautrec',\n",
       " 'Vincent_van_Gogh',\n",
       " 'Marc_Chagall',\n",
       " 'Michelangelo',\n",
       " 'Edgar_Degas',\n",
       " 'Pablo_Picasso',\n",
       " 'Pablo_Picasso',\n",
       " 'Titian',\n",
       " 'Sandro_Botticelli',\n",
       " 'Titian']"
      ]
     },
     "execution_count": 11,
     "metadata": {},
     "output_type": "execute_result"
    }
   ],
   "source": [
    "predicted_cnn"
   ]
  },
  {
   "cell_type": "code",
   "execution_count": 20,
   "metadata": {},
   "outputs": [
    {
     "name": "stdout",
     "output_type": "stream",
     "text": [
      "Found 20 images belonging to 13 classes.\n"
     ]
    }
   ],
   "source": [
    "test_datagen = ImageDataGenerator(rescale=1.0 / 255)\n",
    "\n",
    "test_generator = test_datagen.flow_from_directory(\n",
    "    test_path,\n",
    "    target_size=(299, 299),\n",
    "    batch_size=1,\n",
    "    class_mode='categorical',\n",
    "    shuffle=False,\n",
    ")"
   ]
  },
  {
   "cell_type": "code",
   "execution_count": 21,
   "metadata": {},
   "outputs": [
    {
     "name": "stdout",
     "output_type": "stream",
     "text": [
      "20/20 [==============================] - 1s 67ms/step\n"
     ]
    }
   ],
   "source": [
    "inception_predictions = interception.predict(test_generator)"
   ]
  },
  {
   "cell_type": "code",
   "execution_count": 22,
   "metadata": {},
   "outputs": [],
   "source": [
    "predicted_inception = []\n",
    "\n",
    "for pred in inception_predictions:\n",
    "    class_index = np.argmax(pred)\n",
    "    painter = painters[class_index]\n",
    "    predicted_inception.append(painter)"
   ]
  },
  {
   "cell_type": "code",
   "execution_count": 23,
   "metadata": {},
   "outputs": [
    {
     "data": {
      "text/plain": [
       "['Edgar_Degas',\n",
       " 'Henri_Rousseau',\n",
       " 'Joan_Miro',\n",
       " 'William_Turner',\n",
       " 'Gustave_Courbet',\n",
       " 'Gustav_Klimt',\n",
       " 'Titian',\n",
       " 'Paul_Gauguin',\n",
       " 'Jan_van_Eyck',\n",
       " 'Pablo_Picasso',\n",
       " 'Andy_Warhol',\n",
       " 'Vasiliy_Kandinskiy',\n",
       " 'Marc_Chagall',\n",
       " 'Michelangelo',\n",
       " 'Sandro_Botticelli',\n",
       " 'Pablo_Picasso',\n",
       " 'Pablo_Picasso',\n",
       " 'Peter_Paul_Rubens',\n",
       " 'Raphael',\n",
       " 'Diego_Velazquez']"
      ]
     },
     "execution_count": 23,
     "metadata": {},
     "output_type": "execute_result"
    }
   ],
   "source": [
    "predicted_inception"
   ]
  },
  {
   "cell_type": "code",
   "execution_count": 24,
   "metadata": {},
   "outputs": [],
   "source": [
    "original_painter_names = [os.path.basename(os.path.dirname(file_path)) for file_path in test_generator.filenames]"
   ]
  },
  {
   "cell_type": "code",
   "execution_count": 25,
   "metadata": {},
   "outputs": [
    {
     "data": {
      "text/plain": [
       "['Edgar_Degas',\n",
       " 'Edgar_Degas',\n",
       " 'Frida_Kahlo',\n",
       " 'Gustav_Klimt',\n",
       " 'Gustav_Klimt',\n",
       " 'Gustave_Courbet',\n",
       " 'Gustave_Courbet',\n",
       " 'Henri-de-Toulous',\n",
       " 'Jan_van_Eyck',\n",
       " 'Joan_Miro',\n",
       " 'Joan_Miro',\n",
       " 'Marc_Chagall',\n",
       " 'Marc_Chagall',\n",
       " 'Michelangelo',\n",
       " 'Michelangelo',\n",
       " 'Pablo_Picasso',\n",
       " 'Pablo_Picasso',\n",
       " 'Peter_Paul_Rubens',\n",
       " 'Raphael',\n",
       " 'Titian']"
      ]
     },
     "execution_count": 25,
     "metadata": {},
     "output_type": "execute_result"
    }
   ],
   "source": [
    "original_painter_names"
   ]
  },
  {
   "cell_type": "code",
   "execution_count": 26,
   "metadata": {},
   "outputs": [
    {
     "data": {
      "text/html": [
       "<div>\n",
       "<style scoped>\n",
       "    .dataframe tbody tr th:only-of-type {\n",
       "        vertical-align: middle;\n",
       "    }\n",
       "\n",
       "    .dataframe tbody tr th {\n",
       "        vertical-align: top;\n",
       "    }\n",
       "\n",
       "    .dataframe thead th {\n",
       "        text-align: right;\n",
       "    }\n",
       "</style>\n",
       "<table border=\"1\" class=\"dataframe\">\n",
       "  <thead>\n",
       "    <tr style=\"text-align: right;\">\n",
       "      <th></th>\n",
       "      <th>Original</th>\n",
       "      <th>CNN Predictions</th>\n",
       "      <th>Inception Predictions</th>\n",
       "    </tr>\n",
       "  </thead>\n",
       "  <tbody>\n",
       "    <tr>\n",
       "      <th>0</th>\n",
       "      <td>Edgar_Degas</td>\n",
       "      <td>Titian</td>\n",
       "      <td>Edgar_Degas</td>\n",
       "    </tr>\n",
       "    <tr>\n",
       "      <th>1</th>\n",
       "      <td>Edgar_Degas</td>\n",
       "      <td>Edgar_Degas</td>\n",
       "      <td>Henri_Rousseau</td>\n",
       "    </tr>\n",
       "    <tr>\n",
       "      <th>2</th>\n",
       "      <td>Frida_Kahlo</td>\n",
       "      <td>Paul_Klee</td>\n",
       "      <td>Joan_Miro</td>\n",
       "    </tr>\n",
       "    <tr>\n",
       "      <th>3</th>\n",
       "      <td>Gustav_Klimt</td>\n",
       "      <td>Paul_Gauguin</td>\n",
       "      <td>William_Turner</td>\n",
       "    </tr>\n",
       "    <tr>\n",
       "      <th>4</th>\n",
       "      <td>Gustav_Klimt</td>\n",
       "      <td>Vincent_van_Gogh</td>\n",
       "      <td>Gustave_Courbet</td>\n",
       "    </tr>\n",
       "    <tr>\n",
       "      <th>5</th>\n",
       "      <td>Gustave_Courbet</td>\n",
       "      <td>Vincent_van_Gogh</td>\n",
       "      <td>Gustav_Klimt</td>\n",
       "    </tr>\n",
       "    <tr>\n",
       "      <th>6</th>\n",
       "      <td>Gustave_Courbet</td>\n",
       "      <td>Titian</td>\n",
       "      <td>Titian</td>\n",
       "    </tr>\n",
       "    <tr>\n",
       "      <th>7</th>\n",
       "      <td>Henri-de-Toulous</td>\n",
       "      <td>Edgar_Degas</td>\n",
       "      <td>Paul_Gauguin</td>\n",
       "    </tr>\n",
       "    <tr>\n",
       "      <th>8</th>\n",
       "      <td>Jan_van_Eyck</td>\n",
       "      <td>Jan_van_Eyck</td>\n",
       "      <td>Jan_van_Eyck</td>\n",
       "    </tr>\n",
       "    <tr>\n",
       "      <th>9</th>\n",
       "      <td>Joan_Miro</td>\n",
       "      <td>Andy_Warhol</td>\n",
       "      <td>Pablo_Picasso</td>\n",
       "    </tr>\n",
       "    <tr>\n",
       "      <th>10</th>\n",
       "      <td>Joan_Miro</td>\n",
       "      <td>Henri_de_Toulouse-Lautrec</td>\n",
       "      <td>Andy_Warhol</td>\n",
       "    </tr>\n",
       "    <tr>\n",
       "      <th>11</th>\n",
       "      <td>Marc_Chagall</td>\n",
       "      <td>Vincent_van_Gogh</td>\n",
       "      <td>Vasiliy_Kandinskiy</td>\n",
       "    </tr>\n",
       "    <tr>\n",
       "      <th>12</th>\n",
       "      <td>Marc_Chagall</td>\n",
       "      <td>Marc_Chagall</td>\n",
       "      <td>Marc_Chagall</td>\n",
       "    </tr>\n",
       "    <tr>\n",
       "      <th>13</th>\n",
       "      <td>Michelangelo</td>\n",
       "      <td>Michelangelo</td>\n",
       "      <td>Michelangelo</td>\n",
       "    </tr>\n",
       "    <tr>\n",
       "      <th>14</th>\n",
       "      <td>Michelangelo</td>\n",
       "      <td>Edgar_Degas</td>\n",
       "      <td>Sandro_Botticelli</td>\n",
       "    </tr>\n",
       "    <tr>\n",
       "      <th>15</th>\n",
       "      <td>Pablo_Picasso</td>\n",
       "      <td>Pablo_Picasso</td>\n",
       "      <td>Pablo_Picasso</td>\n",
       "    </tr>\n",
       "    <tr>\n",
       "      <th>16</th>\n",
       "      <td>Pablo_Picasso</td>\n",
       "      <td>Pablo_Picasso</td>\n",
       "      <td>Pablo_Picasso</td>\n",
       "    </tr>\n",
       "    <tr>\n",
       "      <th>17</th>\n",
       "      <td>Peter_Paul_Rubens</td>\n",
       "      <td>Titian</td>\n",
       "      <td>Peter_Paul_Rubens</td>\n",
       "    </tr>\n",
       "    <tr>\n",
       "      <th>18</th>\n",
       "      <td>Raphael</td>\n",
       "      <td>Sandro_Botticelli</td>\n",
       "      <td>Raphael</td>\n",
       "    </tr>\n",
       "    <tr>\n",
       "      <th>19</th>\n",
       "      <td>Titian</td>\n",
       "      <td>Titian</td>\n",
       "      <td>Diego_Velazquez</td>\n",
       "    </tr>\n",
       "  </tbody>\n",
       "</table>\n",
       "</div>"
      ],
      "text/plain": [
       "             Original            CNN Predictions Inception Predictions\n",
       "0         Edgar_Degas                     Titian           Edgar_Degas\n",
       "1         Edgar_Degas                Edgar_Degas        Henri_Rousseau\n",
       "2         Frida_Kahlo                  Paul_Klee             Joan_Miro\n",
       "3        Gustav_Klimt               Paul_Gauguin        William_Turner\n",
       "4        Gustav_Klimt           Vincent_van_Gogh       Gustave_Courbet\n",
       "5     Gustave_Courbet           Vincent_van_Gogh          Gustav_Klimt\n",
       "6     Gustave_Courbet                     Titian                Titian\n",
       "7    Henri-de-Toulous                Edgar_Degas          Paul_Gauguin\n",
       "8        Jan_van_Eyck               Jan_van_Eyck          Jan_van_Eyck\n",
       "9           Joan_Miro                Andy_Warhol         Pablo_Picasso\n",
       "10          Joan_Miro  Henri_de_Toulouse-Lautrec           Andy_Warhol\n",
       "11       Marc_Chagall           Vincent_van_Gogh    Vasiliy_Kandinskiy\n",
       "12       Marc_Chagall               Marc_Chagall          Marc_Chagall\n",
       "13       Michelangelo               Michelangelo          Michelangelo\n",
       "14       Michelangelo                Edgar_Degas     Sandro_Botticelli\n",
       "15      Pablo_Picasso              Pablo_Picasso         Pablo_Picasso\n",
       "16      Pablo_Picasso              Pablo_Picasso         Pablo_Picasso\n",
       "17  Peter_Paul_Rubens                     Titian     Peter_Paul_Rubens\n",
       "18            Raphael          Sandro_Botticelli               Raphael\n",
       "19             Titian                     Titian       Diego_Velazquez"
      ]
     },
     "execution_count": 26,
     "metadata": {},
     "output_type": "execute_result"
    }
   ],
   "source": [
    "results = pd.DataFrame({\n",
    "    \"Original\": original_painter_names,\n",
    "    \"CNN Predictions\": predicted_cnn,\n",
    "    \"Inception Predictions\": predicted_inception\n",
    "})\n",
    "\n",
    "results"
   ]
  }
 ],
 "metadata": {
  "kernelspec": {
   "display_name": "jotform1",
   "language": "python",
   "name": "python3"
  },
  "language_info": {
   "codemirror_mode": {
    "name": "ipython",
    "version": 3
   },
   "file_extension": ".py",
   "mimetype": "text/x-python",
   "name": "python",
   "nbconvert_exporter": "python",
   "pygments_lexer": "ipython3",
   "version": "3.8.16"
  }
 },
 "nbformat": 4,
 "nbformat_minor": 2
}
