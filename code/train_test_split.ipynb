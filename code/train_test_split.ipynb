{
 "cells": [
  {
   "cell_type": "code",
   "execution_count": null,
   "metadata": {},
   "outputs": [],
   "source": [
    "import os\n",
    "import random\n",
    "import shutil"
   ]
  },
  {
   "cell_type": "code",
   "execution_count": null,
   "metadata": {},
   "outputs": [],
   "source": [
    "images_path = \"../data/images\" #the folder where images are present\n",
    "output_path = \"../data\" #train and test sets will be saved in this folder\n",
    "\n",
    "#Creating folders for train and test sets\n",
    "train_folder = os.path.join(output_path, \"train\")\n",
    "test_folder = os.path.join(output_path, \"test\")\n",
    "os.makedirs(train_folder, exist_ok=True)\n",
    "os.makedirs(test_folder, exist_ok=True)\n",
    "\n",
    "painters_path = [folder for folder in os.listdir(images_path) if os.path.isdir(os.path.join(images_path, folder))]\n",
    "\n",
    "for painter in painters_path: #for each painter folder, train and test sets are seperated\n",
    "    images_path = os.path.join(images_path, painter)\n",
    "    images_list = [image for image in os.listdir(images_path)]\n",
    "\n",
    "    num_images_train = int(len(images_list) * 0.8)\n",
    "    num_images_test = len(images_list) - num_images_train\n",
    "\n",
    "    random.shuffle(images_list)\n",
    "\n",
    "    for image in images_list[:num_images_train]:\n",
    "        from_path = os.path.join(images_path, image)\n",
    "        to_path = os.path.join(train_folder, painter, image)\n",
    "        os.makedirs(os.path.dirname(to_path), exist_ok=True)\n",
    "        shutil.copy(from_path, to_path)\n",
    "\n",
    "    for image in images_list[num_images_train:]:\n",
    "        from_path = os.path.join(images_path, image)\n",
    "        dst = os.path.join(test_folder, painter, image)\n",
    "        os.makedirs(os.path.dirname(to_path), exist_ok=True)\n",
    "        shutil.copy(from_path, to_path)"
   ]
  }
 ],
 "metadata": {
  "language_info": {
   "name": "python"
  }
 },
 "nbformat": 4,
 "nbformat_minor": 2
}
