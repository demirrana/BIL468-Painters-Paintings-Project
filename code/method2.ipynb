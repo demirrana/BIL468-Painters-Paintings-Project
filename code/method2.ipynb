{
 "cells": [
  {
   "cell_type": "code",
   "execution_count": null,
   "metadata": {},
   "outputs": [],
   "source": [
    "import os\n",
    "import pandas as pd"
   ]
  },
  {
   "cell_type": "markdown",
   "metadata": {},
   "source": [
    "Paths are initialized"
   ]
  },
  {
   "cell_type": "code",
   "execution_count": null,
   "metadata": {},
   "outputs": [],
   "source": [
    "#wikiart (large dataset) will be added later\n",
    "\n",
    "kaggle_train_path = \"../data/train\"\n",
    "kaggle_test_path = \"../data/test\"\n",
    "\n",
    "features_path = \"../features\"\n",
    "painters_path = \"../data/artists.csv\"\n",
    "\n",
    "kaggle_painter_names = os.listdir(kaggle_train_path)\n",
    "painters = pd.read_csv(painters_path)\n",
    "painters = painters[\"name\"]"
   ]
  }
 ],
 "metadata": {
  "language_info": {
   "name": "python"
  }
 },
 "nbformat": 4,
 "nbformat_minor": 2
}
