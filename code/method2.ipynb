{
 "cells": [
  {
   "cell_type": "code",
   "execution_count": null,
   "metadata": {},
   "outputs": [],
   "source": [
    "import os\n",
    "\n",
    "import cv2\n",
    "import pandas as pd\n",
    "import numpy as np\n",
    "\n",
    "from skimage.feature import local_binary_pattern"
   ]
  },
  {
   "cell_type": "markdown",
   "metadata": {},
   "source": [
    "Paths are initialized"
   ]
  },
  {
   "cell_type": "code",
   "execution_count": null,
   "metadata": {},
   "outputs": [],
   "source": [
    "#wikiart (large dataset) will be added later\n",
    "\n",
    "kaggle_train_path = \"../data/train\"\n",
    "kaggle_test_path = \"../data/test\"\n",
    "\n",
    "features_path = \"../features\"\n",
    "painters_path = \"../data/artists.csv\"\n",
    "\n",
    "kaggle_painter_names = os.listdir(kaggle_train_path)\n",
    "painters = pd.read_csv(painters_path)\n",
    "painters = painters[\"name\"]"
   ]
  },
  {
   "cell_type": "markdown",
   "metadata": {},
   "source": [
    "Feature 1: Average of HOG"
   ]
  },
  {
   "cell_type": "code",
   "execution_count": null,
   "metadata": {},
   "outputs": [],
   "source": [
    "#Computing HOG over an image\n",
    "def compute_hog(image):\n",
    "    hog_desc = cv2.HOGDescriptor()\n",
    "    hsv_image = cv2.cvtColor(image, cv2.COLOR_BGR2HSV)\n",
    "    hog_features = []\n",
    "\n",
    "    for channel in range(hsv_image.shape[2]): #computing for HSV channels\n",
    "        hog_features_channel = hog_desc.compute(hsv_image[:, :, channel])\n",
    "        hog_features.append(hog_features_channel)\n",
    "\n",
    "    return np.concatenate(hog_features)\n",
    "\n",
    "#Computing average of HOG for each painter's paintings distinctively\n",
    "for painter in kaggle_painter_names:\n",
    "    paintings_path = os.path.join(kaggle_train_path, painter)\n",
    "    images_list = [image for image in os.listdir(paintings_path)]\n",
    "\n",
    "    hog_features_list = []\n",
    "    for image_name in images_list:\n",
    "        image_path = os.path.join(paintings_path, image_name)\n",
    "        image = cv2.imread(image_path)\n",
    "        hog_features = compute_hog(image)\n",
    "        hog_features_list.append(hog_features)\n",
    "\n",
    "    hog_features_array = np.array(hog_features_list)\n",
    "    avg_hog_features = np.mean(hog_features_array, axis=0)"
   ]
  },
  {
   "cell_type": "markdown",
   "metadata": {},
   "source": [
    "Feature 2: Average of LBP"
   ]
  },
  {
   "cell_type": "code",
   "execution_count": null,
   "metadata": {},
   "outputs": [],
   "source": [
    "def compute_lbp(image):\n",
    "    hsv_image = cv2.cvtColor(image, cv2.COLOR_BGR2HSV)\n",
    "    gray_image = hsv_image[:, :, 2] #to obtain texture information\n",
    "\n",
    "    radius = 3\n",
    "    n_points = 8 * radius\n",
    "    features = local_binary_pattern(gray_image, n_points, radius, method=\"uniform\")\n",
    "    lbp_hist, _ = np.histogram(features.ravel(), bins=np.arange(0, n_points + 3), range=(0, n_points + 2))\n",
    "    lbp_hist /= np.sum(lbp_hist)\n",
    "    return lbp_hist\n",
    "\n",
    "average_lbp_features = {}\n",
    "\n",
    "#Computing average of LBP for each painter's paintings distinctively\n",
    "for painter in kaggle_painter_names:\n",
    "    paintings_path = os.path.join(kaggle_train_path, painter)\n",
    "    images_list = [image for image in os.listdir(paintings_path)]\n",
    "    painter_lbp_features = []\n",
    "\n",
    "    for image_name in images_list:\n",
    "        image_path = os.path.join(paintings_path, image_name)\n",
    "        image = cv2.imread(image_path)\n",
    "        lbp_feature = compute_lbp(image)\n",
    "        painter_lbp_features.append(lbp_feature)\n",
    "\n",
    "    average_lbp_features[painter] = np.mean(painter_lbp_features, axis=0)"
   ]
  },
  {
   "cell_type": "markdown",
   "metadata": {},
   "source": [
    "Feature 3: Standard Deviation of HOG"
   ]
  },
  {
   "cell_type": "code",
   "execution_count": null,
   "metadata": {},
   "outputs": [],
   "source": [
    "#Computing standard deviation of HOG for each painter's paintings distinctively\n",
    "for painter in kaggle_painter_names:\n",
    "    paintings_path = os.path.join(kaggle_train_path, painter)\n",
    "    images_list = [image for image in os.listdir(paintings_path)]\n",
    "\n",
    "    hog_features_list = []\n",
    "    for image_name in images_list:\n",
    "        image_path = os.path.join(paintings_path, image_name)\n",
    "        image = cv2.imread(image_path)\n",
    "        hog_features = compute_hog(image)\n",
    "        hog_features_list.append(hog_features)\n",
    "\n",
    "    hog_features_array = np.array(hog_features_list)\n",
    "    avg_hog_features = np.std(hog_features_array, axis=0)"
   ]
  },
  {
   "cell_type": "markdown",
   "metadata": {},
   "source": [
    "Feature 4: Standard Deviation of LBP"
   ]
  },
  {
   "cell_type": "code",
   "execution_count": null,
   "metadata": {},
   "outputs": [],
   "source": [
    "#Computing standard deviation of LBP for each painter's paintings distinctively\n",
    "for painter in kaggle_painter_names:\n",
    "    paintings_path = os.path.join(kaggle_train_path, painter)\n",
    "    images_list = [image for image in os.listdir(paintings_path)]\n",
    "    painter_lbp_features = []\n",
    "\n",
    "    for image_name in images_list:\n",
    "        image_path = os.path.join(paintings_path, image_name)\n",
    "        image = cv2.imread(image_path)\n",
    "        lbp_feature = compute_lbp(image)\n",
    "        painter_lbp_features.append(lbp_feature)\n",
    "\n",
    "    average_lbp_features[painter] = np.std(painter_lbp_features, axis=0)"
   ]
  },
  {
   "cell_type": "markdown",
   "metadata": {},
   "source": [
    "Feature 5: Average of Gray Histogram"
   ]
  },
  {
   "cell_type": "code",
   "execution_count": null,
   "metadata": {},
   "outputs": [],
   "source": [
    "gray_hist_avg_path = \"../features/gray_hist_avg.txt\"\n",
    "\n",
    "def compute_gray_histogram(image):\n",
    "    gray_image = cv2.cvtColor(image, cv2.COLOR_BGR2GRAY)\n",
    "    hist, _ = np.histogram(gray_image.ravel(), bins=256, range=[0,256])\n",
    "    return hist\n",
    "\n",
    "avg_gray_hist = {}\n",
    "\n",
    "with open(gray_hist_avg_path, \"w\") as gray_hist_avg:\n",
    "    for painter in kaggle_painter_names:\n",
    "        gray_hist_avg.write(painter)\n",
    "        gray_hist_avg.write(\"\\n\")\n",
    "\n",
    "        paintings_path = os.path.join(kaggle_train_path, painter)\n",
    "        painter_gray_hist = []\n",
    "\n",
    "        for image_name in os.listdir(paintings_path):\n",
    "            image_path = os.path.join(paintings_path, image_name)\n",
    "            image = cv2.imread(image_path)\n",
    "            gray_hist = compute_gray_histogram(image)\n",
    "            painter_gray_hist.append(gray_hist)\n",
    "\n",
    "        avg_gray_hist[painter] = np.mean(painter_gray_hist, axis=0)\n",
    "        np.savetxt(gray_hist_avg, [avg_gray_hist[painter]])"
   ]
  },
  {
   "cell_type": "markdown",
   "metadata": {},
   "source": [
    "Feature 6: Average of Image Edges Histogram"
   ]
  },
  {
   "cell_type": "code",
   "execution_count": null,
   "metadata": {},
   "outputs": [],
   "source": [
    "edges_hist_avg_path = \"../features/edges_hist_avg.txt\"\n",
    "\n",
    "def compute_edge_histogram(image):\n",
    "    gray_image = cv2.cvtColor(image, cv2.COLOR_BGR2GRAY)\n",
    "    edges = cv2.Canny(gray_image, 50, 150)\n",
    "    hist, _ = np.histogram(edges.ravel(), bins=256, range=[0,256])\n",
    "    return hist\n",
    "\n",
    "avg_edge_hist = {}\n",
    "\n",
    "with open(edges_hist_avg_path, \"w\") as edges_hist_avg:\n",
    "    for painter in kaggle_painter_names:\n",
    "        edges_hist_avg.write(painter)\n",
    "        edges_hist_avg.write(\"\\n\")\n",
    "\n",
    "        paintings_path = os.path.join(kaggle_train_path, painter)\n",
    "        painter_edge_hist = []\n",
    "\n",
    "        for image_name in os.listdir(paintings_path):\n",
    "            image_path = os.path.join(paintings_path, image_name)\n",
    "            image = cv2.imread(image_path)\n",
    "            edge_hist = compute_edge_histogram(image)\n",
    "            painter_edge_hist.append(edge_hist)\n",
    "\n",
    "        avg_edge_hist[painter] = np.mean(painter_edge_hist, axis=0)\n",
    "        np.savetxt(edges_hist_avg, [avg_edge_hist[painter]], fmt=\"%.6f\")"
   ]
  },
  {
   "cell_type": "markdown",
   "metadata": {},
   "source": [
    "Feature 7: Means of Image Edges Histogram"
   ]
  },
  {
   "cell_type": "code",
   "execution_count": null,
   "metadata": {},
   "outputs": [],
   "source": [
    "edges_feat_mean_path = \"../features/edges_feat_mean.txt\"\n",
    "\n",
    "def compute_edge_mean(image):\n",
    "    gray_image = cv2.cvtColor(image, cv2.COLOR_BGR2GRAY)\n",
    "    edges = cv2.Canny(gray_image, 50, 150)\n",
    "    edge_mean = np.mean(edges)\n",
    "    return edge_mean\n",
    "\n",
    "edge_features_means = {}\n",
    "\n",
    "with open(edges_feat_mean_path, \"w\") as edges_feat_mean:\n",
    "    for painter in kaggle_painter_names:\n",
    "        edges_feat_mean.write(painter)\n",
    "        edges_feat_mean.write(\"\\n\")\n",
    "\n",
    "        paintings_path = os.path.join(kaggle_train_path, painter)\n",
    "        painter_edge_means = []\n",
    "\n",
    "        for image_name in os.listdir(paintings_path):\n",
    "            image_path = os.path.join(paintings_path, image_name)\n",
    "            image = cv2.imread(image_path)\n",
    "            edge_mean = compute_edge_mean(image)\n",
    "            painter_edge_means.append(edge_mean)\n",
    "\n",
    "        edge_features_means[painter] = np.mean(painter_edge_means)\n",
    "        np.savetxt(edges_feat_mean, [edge_features_means[painter]], fmt=\"%.6f\")"
   ]
  },
  {
   "cell_type": "markdown",
   "metadata": {},
   "source": [
    "Feature 8: Average of Histogram for S Component From HSV Image"
   ]
  },
  {
   "cell_type": "code",
   "execution_count": null,
   "metadata": {},
   "outputs": [],
   "source": [
    "s_hsv_avg_path = \"../features/s_hsv_avg.txt\"\n",
    "\n",
    "def compute_s_histogram(image):\n",
    "    hsv_image = cv2.cvtColor(image, cv2.COLOR_BGR2HSV)\n",
    "    s_component = hsv_image[:,:,1]\n",
    "    hist, _ = np.histogram(s_component.ravel(), bins=256, range=[0,256])\n",
    "    return hist\n",
    "\n",
    "avg_s_hist = {}\n",
    "\n",
    "with open(s_hsv_avg_path, \"w\") as s_hsv_avg:\n",
    "    for painter in kaggle_painter_names:\n",
    "        s_hsv_avg.write(painter)\n",
    "        s_hsv_avg.write(\"\\n\")\n",
    "\n",
    "        paintings_path = os.path.join(kaggle_train_path, painter)\n",
    "        painter_s_hist = []\n",
    "        \n",
    "        for image_name in os.listdir(paintings_path):\n",
    "            image_path = os.path.join(paintings_path, image_name)\n",
    "            image = cv2.imread(image_path)\n",
    "            s_hist = compute_s_histogram(image)\n",
    "            painter_s_hist.append(s_hist)\n",
    "            \n",
    "        avg_s_hist[painter] = np.mean(painter_s_hist, axis=0)\n",
    "        np.savetxt(s_hsv_avg, [avg_s_hist[painter]], fmt=\"%.6f\")"
   ]
  },
  {
   "cell_type": "markdown",
   "metadata": {},
   "source": [
    "Feature 9: Standard Deviation of Histogram for S Component From HSV Image"
   ]
  },
  {
   "cell_type": "code",
   "execution_count": null,
   "metadata": {},
   "outputs": [],
   "source": [
    "s_hsv_std_path = \"../features/s_hsv_std.txt\"\n",
    "\n",
    "std_s_hist = {}\n",
    "\n",
    "with open(s_hsv_std_path, \"w\") as s_hsv_std:\n",
    "    for painter in kaggle_painter_names:\n",
    "        s_hsv_std.write(painter)\n",
    "        s_hsv_std.write(\"\\n\")\n",
    "\n",
    "        paintings_path = os.path.join(kaggle_train_path, painter)\n",
    "        painter_s_hist = []\n",
    "        \n",
    "        for image_name in os.listdir(paintings_path):\n",
    "            image_path = os.path.join(paintings_path, image_name)\n",
    "            image = cv2.imread(image_path)\n",
    "            s_hist = compute_s_histogram(image)\n",
    "            painter_s_hist.append(s_hist)\n",
    "            \n",
    "        std_s_hist[painter] = np.std(painter_s_hist, axis=0)\n",
    "        np.savetxt(s_hsv_std, [std_s_hist[painter]], fmt=\"%.6f\")"
   ]
  },
  {
   "cell_type": "markdown",
   "metadata": {},
   "source": [
    "Feature 10: Average of Histogram for B Component From RGB Image"
   ]
  },
  {
   "cell_type": "code",
   "execution_count": null,
   "metadata": {},
   "outputs": [],
   "source": [
    "def compute_b_histogram(image):\n",
    "    b, g, r = cv2.split(image)\n",
    "    hist, _ = np.histogram(b.ravel(), bins=256, range=[0,256])\n",
    "    return hist\n",
    "\n",
    "avg_b_hist = {}\n",
    "\n",
    "for painter in kaggle_painter_names:\n",
    "    paintings_path = os.path.join(kaggle_train_path, painter)\n",
    "    painter_b_hist = []\n",
    "    \n",
    "    for image_name in os.listdir(paintings_path):\n",
    "        image_path = os.path.join(paintings_path, image_name)\n",
    "        image = cv2.imread(image_path)\n",
    "        b_hist = compute_b_histogram(image)\n",
    "        painter_b_hist.append(s_hist)\n",
    "        \n",
    "    avg_b_hist[painter] = np.mean(painter_b_hist, axis=0)"
   ]
  },
  {
   "cell_type": "markdown",
   "metadata": {},
   "source": [
    "Feature 11: Standard Deviation of Histogram for B Component From RGB Image"
   ]
  },
  {
   "cell_type": "code",
   "execution_count": null,
   "metadata": {},
   "outputs": [],
   "source": [
    "std_b_hist = {}\n",
    "\n",
    "for painter in kaggle_painter_names:\n",
    "    paintings_path = os.path.join(kaggle_train_path, painter)\n",
    "    painter_b_hist = []\n",
    "    \n",
    "    for image_name in os.listdir(paintings_path):\n",
    "        image_path = os.path.join(paintings_path, image_name)\n",
    "        image = cv2.imread(image_path)\n",
    "        b_hist = compute_b_histogram(image)\n",
    "        painter_b_hist.append(s_hist)\n",
    "        \n",
    "    std_b_hist[painter] = np.std(painter_b_hist, axis=0)"
   ]
  }
 ],
 "metadata": {
  "language_info": {
   "name": "python"
  }
 },
 "nbformat": 4,
 "nbformat_minor": 2
}
