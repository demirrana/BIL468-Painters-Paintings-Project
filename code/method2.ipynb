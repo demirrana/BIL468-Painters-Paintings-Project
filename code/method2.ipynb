{
 "cells": [
  {
   "cell_type": "code",
   "execution_count": 1,
   "metadata": {},
   "outputs": [
    {
     "name": "stderr",
     "output_type": "stream",
     "text": [
      "<ipython-input-1-35d047beb4f1>:4: DeprecationWarning: \n",
      "Pyarrow will become a required dependency of pandas in the next major release of pandas (pandas 3.0),\n",
      "(to allow more performant data types, such as the Arrow string type, and better interoperability with other libraries)\n",
      "but was too old on your system - pyarrow 10.0.1 is the current minimum supported version as of this release.\n",
      "If this would cause problems for you,\n",
      "please provide us feedback at https://github.com/pandas-dev/pandas/issues/54466\n",
      "        \n",
      "  import pandas as pd\n"
     ]
    }
   ],
   "source": [
    "import os\n",
    "\n",
    "import cv2\n",
    "import pandas as pd\n",
    "import numpy as np\n",
    "\n",
    "from skimage.feature import local_binary_pattern\n",
    "from sklearn.decomposition import PCA\n",
    "\n",
    "from sklearn.neural_network import MLPClassifier\n",
    "from sklearn.metrics import classification_report, accuracy_score\n",
    "\n",
    "from sklearn.svm import SVC\n",
    "\n",
    "import xgboost as xgb\n"
   ]
  },
  {
   "cell_type": "markdown",
   "metadata": {},
   "source": [
    "Paths are initialized"
   ]
  },
  {
   "cell_type": "code",
   "execution_count": 2,
   "metadata": {},
   "outputs": [],
   "source": [
    "#wikiart (large dataset) will be added later\n",
    "\n",
    "kaggle_train_path = \"../data/train\"\n",
    "kaggle_test_path = \"../data/test\"\n",
    "\n",
    "features_path = \"../features\"\n",
    "\n",
    "kaggle_painter_names = os.listdir(kaggle_train_path)"
   ]
  },
  {
   "cell_type": "code",
   "execution_count": 3,
   "metadata": {},
   "outputs": [],
   "source": [
    "painter_ids = {}\n",
    "id = 0\n",
    "for painter in kaggle_painter_names:\n",
    "    painter_ids[painter] = id\n",
    "    id += 1"
   ]
  },
  {
   "cell_type": "markdown",
   "metadata": {},
   "source": [
    "Feature 1: LBP"
   ]
  },
  {
   "cell_type": "code",
   "execution_count": 4,
   "metadata": {},
   "outputs": [],
   "source": [
    "lbp_path = \"../features/lbp.txt\""
   ]
  },
  {
   "cell_type": "code",
   "execution_count": 5,
   "metadata": {},
   "outputs": [],
   "source": [
    "def compute_lbp(image):\n",
    "    hsv_image = cv2.cvtColor(image, cv2.COLOR_BGR2HSV)\n",
    "    gray_image = hsv_image[:, :, 2] #to obtain texture information\n",
    "    gray_image = cv2.resize(gray_image, (128, 128))\n",
    "\n",
    "    radius = 3\n",
    "    n_points = 8 * radius\n",
    "    features = local_binary_pattern(gray_image, n_points, radius, method=\"uniform\")\n",
    "    lbp_hist, _ = np.histogram(features.ravel(), bins=np.arange(0, n_points + 3), range=(0, n_points + 2))\n",
    "    lbp_hist = lbp_hist.astype(float)\n",
    "    lbp_hist /= np.sum(lbp_hist)\n",
    "    return lbp_hist"
   ]
  },
  {
   "cell_type": "code",
   "execution_count": 6,
   "metadata": {},
   "outputs": [],
   "source": [
    "with open(lbp_path, \"w\") as lbp_file:\n",
    "    for painter in kaggle_painter_names:\n",
    "        paintings_path = os.path.join(kaggle_train_path, painter)\n",
    "        images_list = [image for image in os.listdir(paintings_path)]\n",
    "\n",
    "        for image_name in images_list:\n",
    "            image_path = os.path.join(paintings_path, image_name)\n",
    "            image = cv2.imread(image_path)\n",
    "            lbp_feature = compute_lbp(image)\n",
    "            np.savetxt(lbp_file, [lbp_feature], fmt=\"%.6f\")"
   ]
  },
  {
   "cell_type": "markdown",
   "metadata": {},
   "source": [
    "Feature 2: Gray Histogram"
   ]
  },
  {
   "cell_type": "code",
   "execution_count": 7,
   "metadata": {},
   "outputs": [],
   "source": [
    "gray_hist_path = \"../features/gray_hist.txt\""
   ]
  },
  {
   "cell_type": "code",
   "execution_count": 8,
   "metadata": {},
   "outputs": [],
   "source": [
    "def compute_gray_histogram(image):\n",
    "    gray_image = cv2.cvtColor(image, cv2.COLOR_BGR2GRAY)\n",
    "    gray_image = cv2.resize(gray_image, (128, 128))\n",
    "    hist, _ = np.histogram(gray_image.ravel(), bins=256, range=[0,256])\n",
    "    return hist"
   ]
  },
  {
   "cell_type": "code",
   "execution_count": 9,
   "metadata": {},
   "outputs": [],
   "source": [
    "with open(gray_hist_path, \"w\") as gray_hist_file:\n",
    "    for painter in kaggle_painter_names:\n",
    "        paintings_path = os.path.join(kaggle_train_path, painter)\n",
    "\n",
    "        for image_name in os.listdir(paintings_path):\n",
    "            image_path = os.path.join(paintings_path, image_name)\n",
    "            image = cv2.imread(image_path)\n",
    "            gray_hist = compute_gray_histogram(image)\n",
    "            np.savetxt(gray_hist_file, [gray_hist])"
   ]
  },
  {
   "cell_type": "markdown",
   "metadata": {},
   "source": [
    "Feature 3: Edges Histogram"
   ]
  },
  {
   "cell_type": "code",
   "execution_count": 10,
   "metadata": {},
   "outputs": [],
   "source": [
    "edges_hist_path = \"../features/edges_hist.txt\""
   ]
  },
  {
   "cell_type": "code",
   "execution_count": 11,
   "metadata": {},
   "outputs": [],
   "source": [
    "def compute_edge_histogram(image):\n",
    "    gray_image = cv2.cvtColor(image, cv2.COLOR_BGR2GRAY)\n",
    "    gray_image = cv2.resize(gray_image, (128, 128))\n",
    "    edges = cv2.Canny(gray_image, 50, 150)\n",
    "    hist, _ = np.histogram(edges.ravel(), bins=256, range=[0,256])\n",
    "    return hist"
   ]
  },
  {
   "cell_type": "code",
   "execution_count": 12,
   "metadata": {},
   "outputs": [],
   "source": [
    "with open(edges_hist_path, \"w\") as edges_hist_file:\n",
    "    for painter in kaggle_painter_names:\n",
    "        paintings_path = os.path.join(kaggle_train_path, painter)\n",
    "\n",
    "        for image_name in os.listdir(paintings_path):\n",
    "            image_path = os.path.join(paintings_path, image_name)\n",
    "            image = cv2.imread(image_path)\n",
    "            edge_hist = compute_edge_histogram(image)\n",
    "            np.savetxt(edges_hist_file, [edge_hist], fmt=\"%.6f\")"
   ]
  },
  {
   "cell_type": "markdown",
   "metadata": {},
   "source": [
    "Feature 4: Histogram for S Component From HSV Image"
   ]
  },
  {
   "cell_type": "code",
   "execution_count": 13,
   "metadata": {},
   "outputs": [],
   "source": [
    "s_path = \"../features/s_hsv.txt\""
   ]
  },
  {
   "cell_type": "code",
   "execution_count": 14,
   "metadata": {},
   "outputs": [],
   "source": [
    "def compute_s_histogram(image):\n",
    "    hsv_image = cv2.cvtColor(image, cv2.COLOR_BGR2HSV)\n",
    "    s_component = hsv_image[:,:,1]\n",
    "    hist, _ = np.histogram(s_component.ravel(), bins=256, range=[0,256])\n",
    "    return hist"
   ]
  },
  {
   "cell_type": "code",
   "execution_count": 15,
   "metadata": {},
   "outputs": [],
   "source": [
    "with open(s_path, \"w\") as s:\n",
    "    for painter in kaggle_painter_names:\n",
    "        paintings_path = os.path.join(kaggle_train_path, painter)\n",
    "        \n",
    "        for image_name in os.listdir(paintings_path):\n",
    "            image_path = os.path.join(paintings_path, image_name)\n",
    "            image = cv2.imread(image_path)\n",
    "            s_hist = compute_s_histogram(image)\n",
    "            np.savetxt(s, [s_hist], fmt=\"%.6f\")"
   ]
  },
  {
   "cell_type": "markdown",
   "metadata": {},
   "source": [
    "Feature 5: Histogram for B Component From RGB Image"
   ]
  },
  {
   "cell_type": "code",
   "execution_count": 16,
   "metadata": {},
   "outputs": [],
   "source": [
    "b_path = \"../features/b_rgb.txt\""
   ]
  },
  {
   "cell_type": "code",
   "execution_count": 17,
   "metadata": {},
   "outputs": [],
   "source": [
    "def compute_b_histogram(image):\n",
    "    b, g, r = cv2.split(image)\n",
    "    hist, _ = np.histogram(b.ravel(), bins=256, range=[0,256])\n",
    "    return hist"
   ]
  },
  {
   "cell_type": "code",
   "execution_count": 18,
   "metadata": {},
   "outputs": [],
   "source": [
    "with open(b_path, \"w\") as b:\n",
    "    for painter in kaggle_painter_names:\n",
    "        paintings_path = os.path.join(kaggle_train_path, painter)\n",
    "        painter_b_hist = []\n",
    "        \n",
    "        for image_name in os.listdir(paintings_path):\n",
    "            image_path = os.path.join(paintings_path, image_name)\n",
    "            image = cv2.imread(image_path)\n",
    "            b_hist = compute_b_histogram(image)\n",
    "            np.savetxt(b, [b_hist], fmt=\"%.6f\")"
   ]
  },
  {
   "cell_type": "markdown",
   "metadata": {},
   "source": [
    "Function to Generate Test Data"
   ]
  },
  {
   "cell_type": "code",
   "execution_count": 19,
   "metadata": {},
   "outputs": [],
   "source": [
    "def get_basic_features(test_image_path):\n",
    "    test_image = cv2.imread(test_image_path)\n",
    "\n",
    "    test_lbp = compute_lbp(test_image)\n",
    "    test_gray_hist = compute_gray_histogram(test_image)\n",
    "    test_edge_hist = compute_edge_histogram(test_image)\n",
    "    test_s_hist = compute_s_histogram(test_image)\n",
    "    test_b_hist = compute_b_histogram(test_image)\n",
    "\n",
    "    features_for_test = []\n",
    "    features_for_test.extend(test_lbp) \n",
    "    features_for_test.extend(test_gray_hist) \n",
    "    features_for_test.extend(test_edge_hist)\n",
    "    features_for_test.extend(test_s_hist)\n",
    "    features_for_test.extend(test_b_hist)\n",
    "\n",
    "    return features_for_test"
   ]
  },
  {
   "cell_type": "markdown",
   "metadata": {},
   "source": [
    "Train Data: Using the computed features"
   ]
  },
  {
   "cell_type": "code",
   "execution_count": 20,
   "metadata": {},
   "outputs": [],
   "source": [
    "concatenated_features_path = \"../features/concatenated_features.txt\"\n",
    "\n",
    "file_paths = [lbp_path, gray_hist_path, edges_hist_path, s_path, b_path] #hog_path\n",
    "\n",
    "feature_files = [open(file_path, \"r\") for file_path in file_paths]\n",
    "\n",
    "concatenated_file = open(concatenated_features_path, \"w\")\n",
    "\n",
    "for lines in zip(*feature_files): #concatenates all the features for the specific image and saves it to the file\n",
    "    concatenated_line = \" \".join(line.strip() for line in lines)\n",
    "    concatenated_file.write(concatenated_line + \"\\n\")\n",
    "\n",
    "concatenated_file.close()\n",
    "for file in feature_files:\n",
    "    file.close()"
   ]
  },
  {
   "cell_type": "markdown",
   "metadata": {},
   "source": [
    "Train Data: Obtain the Data"
   ]
  },
  {
   "cell_type": "code",
   "execution_count": 21,
   "metadata": {},
   "outputs": [],
   "source": [
    "y_train = []\n",
    "image_count = 0\n",
    "\n",
    "for painter in kaggle_painter_names:\n",
    "    paintings_path = os.path.join(kaggle_train_path, painter)\n",
    "    for image_name in os.listdir(paintings_path):\n",
    "        y_train.append([painter_ids[painter]])\n",
    "        image_count += 1"
   ]
  },
  {
   "cell_type": "code",
   "execution_count": 22,
   "metadata": {},
   "outputs": [],
   "source": [
    "X_train = []\n",
    "\n",
    "with open(concatenated_features_path, \"r\") as concatenated_file:\n",
    "    lines = concatenated_file.readlines()\n",
    "    for i in range(len(lines)):\n",
    "        features = np.fromstring(lines[i].strip(), sep=\" \")\n",
    "        X_train.append(features)\n",
    "\n",
    "X_train = np.array(X_train)\n",
    "y_train = np.array(y_train)"
   ]
  },
  {
   "cell_type": "markdown",
   "metadata": {},
   "source": [
    "Test Data"
   ]
  },
  {
   "cell_type": "code",
   "execution_count": 23,
   "metadata": {},
   "outputs": [],
   "source": [
    "X_test = []\n",
    "y_test = []\n",
    "\n",
    "for painter in kaggle_painter_names:\n",
    "    test_paintings_path = os.path.join(kaggle_test_path, painter)\n",
    "    \n",
    "    for test_image_name in os.listdir(test_paintings_path):\n",
    "        test_image_path = os.path.join(test_paintings_path, test_image_name)\n",
    "        test_features = get_basic_features(test_image_path)\n",
    "        X_test.append(test_features)\n",
    "        y_test.append(painter_ids[painter])\n",
    "\n",
    "X_test = np.array(X_test)\n",
    "y_test = np.array(y_test)"
   ]
  },
  {
   "cell_type": "markdown",
   "metadata": {},
   "source": [
    "ML Model 1: MLP"
   ]
  },
  {
   "cell_type": "code",
   "execution_count": 24,
   "metadata": {},
   "outputs": [
    {
     "name": "stderr",
     "output_type": "stream",
     "text": [
      "c:\\Users\\user\\AppData\\Local\\Programs\\Python\\Python39\\lib\\site-packages\\sklearn\\neural_network\\_multilayer_perceptron.py:1101: DataConversionWarning: A column-vector y was passed when a 1d array was expected. Please change the shape of y to (n_samples, ), for example using ravel().\n",
      "  y = column_or_1d(y, warn=True)\n",
      "c:\\Users\\user\\AppData\\Local\\Programs\\Python\\Python39\\lib\\site-packages\\sklearn\\metrics\\_classification.py:1497: UndefinedMetricWarning: Precision is ill-defined and being set to 0.0 in labels with no predicted samples. Use `zero_division` parameter to control this behavior.\n",
      "  _warn_prf(average, modifier, f\"{metric.capitalize()} is\", len(result))\n",
      "c:\\Users\\user\\AppData\\Local\\Programs\\Python\\Python39\\lib\\site-packages\\sklearn\\metrics\\_classification.py:1497: UndefinedMetricWarning: Precision is ill-defined and being set to 0.0 in labels with no predicted samples. Use `zero_division` parameter to control this behavior.\n",
      "  _warn_prf(average, modifier, f\"{metric.capitalize()} is\", len(result))\n",
      "c:\\Users\\user\\AppData\\Local\\Programs\\Python\\Python39\\lib\\site-packages\\sklearn\\metrics\\_classification.py:1497: UndefinedMetricWarning: Precision is ill-defined and being set to 0.0 in labels with no predicted samples. Use `zero_division` parameter to control this behavior.\n",
      "  _warn_prf(average, modifier, f\"{metric.capitalize()} is\", len(result))\n"
     ]
    }
   ],
   "source": [
    "mlp_model = MLPClassifier(hidden_layer_sizes=(100, 50), max_iter=500, random_state=42)\n",
    "\n",
    "mlp_model.fit(X_train, y_train)\n",
    "y_pred_mlp = mlp_model.predict(X_test)\n",
    "\n",
    "results_mlp_path = \"../results/results_mlp.txt\"\n",
    "\n",
    "accuracy_mlp = accuracy_score(y_test, y_pred_mlp)\n",
    "report_mlp = classification_report(y_test, y_pred_mlp)\n",
    "\n",
    "with open(results_mlp_path, \"w\") as results_mlp:\n",
    "    results_mlp.write(report_mlp)\n",
    "    results_mlp.write(\"\\n\")\n",
    "    results_mlp.write(f\"Accuracy: {accuracy_mlp}\")"
   ]
  },
  {
   "cell_type": "markdown",
   "metadata": {},
   "source": [
    "ML Model 2: SVM"
   ]
  },
  {
   "cell_type": "code",
   "execution_count": 25,
   "metadata": {},
   "outputs": [
    {
     "name": "stderr",
     "output_type": "stream",
     "text": [
      "c:\\Users\\user\\AppData\\Local\\Programs\\Python\\Python39\\lib\\site-packages\\sklearn\\utils\\validation.py:1229: DataConversionWarning: A column-vector y was passed when a 1d array was expected. Please change the shape of y to (n_samples, ), for example using ravel().\n",
      "  y = column_or_1d(y, warn=True)\n"
     ]
    }
   ],
   "source": [
    "svm_model = SVC(kernel='linear', random_state=42)\n",
    "\n",
    "svm_model.fit(X_train, y_train)\n",
    "y_pred_svm = svm_model.predict(X_test)\n",
    "\n",
    "accuracy_svm = accuracy_score(y_test, y_pred_svm)\n",
    "report_svm = classification_report(y_test, y_pred_svm)\n",
    "\n",
    "results_svm_path = \"../results/results_svm.txt\"\n",
    "\n",
    "with open(results_svm_path, \"w\") as results_svm:\n",
    "    results_svm.write(report_svm)\n",
    "    results_svm.write(\"\\n\")\n",
    "    results_svm.write(f\"Accuracy: {accuracy_svm}\")"
   ]
  },
  {
   "cell_type": "markdown",
   "metadata": {},
   "source": [
    "ML Model 3: XGBoost"
   ]
  },
  {
   "cell_type": "code",
   "execution_count": 26,
   "metadata": {},
   "outputs": [],
   "source": [
    "xgb_model = xgb.XGBClassifier(random_state=42)\n",
    "\n",
    "xgb_model.fit(X_train, y_train)\n",
    "y_pred_xgb = xgb_model.predict(X_test)\n",
    "\n",
    "accuracy_xgb = accuracy_score(y_test, y_pred_xgb)\n",
    "report_xgb = classification_report(y_test, y_pred_xgb)\n",
    "\n",
    "results_xgb_path_1 = \"../results/results_xgb.txt\"\n",
    "\n",
    "with open(results_xgb_path_1, \"w\") as results_xgb:\n",
    "    results_xgb.write(report_xgb)\n",
    "    results_xgb.write(\"\\n\")\n",
    "    results_xgb.write(f\"Accuracy: {accuracy_xgb}\")"
   ]
  },
  {
   "cell_type": "markdown",
   "metadata": {},
   "source": [
    "# Saving Models"
   ]
  },
  {
   "cell_type": "code",
   "execution_count": 27,
   "metadata": {},
   "outputs": [],
   "source": [
    "import pickle\n",
    "\n",
    "pickle.dump(mlp_model, open('../models/mlp_model', 'wb'))\n",
    "pickle.dump(svm_model, open('../models/svm_model', 'wb'))\n",
    "pickle.dump(xgb_model, open('../models/xgb_model', 'wb'))"
   ]
  }
 ],
 "metadata": {
  "kernelspec": {
   "display_name": "Python 3",
   "language": "python",
   "name": "python3"
  },
  "language_info": {
   "codemirror_mode": {
    "name": "ipython",
    "version": 3
   },
   "file_extension": ".py",
   "mimetype": "text/x-python",
   "name": "python",
   "nbconvert_exporter": "python",
   "pygments_lexer": "ipython3",
   "version": "3.9.1"
  }
 },
 "nbformat": 4,
 "nbformat_minor": 2
}
