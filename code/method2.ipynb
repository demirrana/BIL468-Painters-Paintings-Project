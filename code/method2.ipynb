{
 "cells": [
  {
   "cell_type": "code",
   "execution_count": 1,
   "metadata": {},
   "outputs": [
    {
     "name": "stderr",
     "output_type": "stream",
     "text": [
      "<ipython-input-1-6fe4e1c89cb2>:4: DeprecationWarning: \n",
      "Pyarrow will become a required dependency of pandas in the next major release of pandas (pandas 3.0),\n",
      "(to allow more performant data types, such as the Arrow string type, and better interoperability with other libraries)\n",
      "but was too old on your system - pyarrow 10.0.1 is the current minimum supported version as of this release.\n",
      "If this would cause problems for you,\n",
      "please provide us feedback at https://github.com/pandas-dev/pandas/issues/54466\n",
      "        \n",
      "  import pandas as pd\n"
     ]
    }
   ],
   "source": [
    "import os\n",
    "\n",
    "import cv2\n",
    "import pandas as pd\n",
    "import numpy as np\n",
    "import random\n",
    "\n",
    "from skimage.feature import local_binary_pattern\n",
    "from sklearn.decomposition import PCA\n",
    "\n",
    "from sklearn.neural_network import MLPClassifier\n",
    "from sklearn.metrics import classification_report, accuracy_score\n",
    "\n",
    "from sklearn.svm import SVC\n",
    "\n",
    "import xgboost as xgb\n"
   ]
  },
  {
   "cell_type": "markdown",
   "metadata": {},
   "source": [
    "Paths are initialized"
   ]
  },
  {
   "cell_type": "code",
   "execution_count": 3,
   "metadata": {},
   "outputs": [],
   "source": [
    "#wikiart (large dataset) will be added later\n",
    "\n",
    "kaggle_train_path = \"../data/train\"\n",
    "kaggle_test_path = \"../data/test\"\n",
    "\n",
    "features_path = \"../features\"\n",
    "\n",
    "kaggle_painter_names = os.listdir(kaggle_train_path)"
   ]
  },
  {
   "cell_type": "code",
   "execution_count": 4,
   "metadata": {},
   "outputs": [],
   "source": [
    "painter_ids = {}\n",
    "id = 0\n",
    "for painter in kaggle_painter_names:\n",
    "    painter_ids[painter] = id\n",
    "    id += 1"
   ]
  },
  {
   "cell_type": "markdown",
   "metadata": {},
   "source": [
    "Feature 1: HOG"
   ]
  },
  {
   "cell_type": "code",
   "execution_count": null,
   "metadata": {},
   "outputs": [],
   "source": [
    "hog_path = \"../features/hog.txt\""
   ]
  },
  {
   "cell_type": "code",
   "execution_count": null,
   "metadata": {},
   "outputs": [],
   "source": [
    "#Computing HOG over an image\n",
    "def compute_hog(image):\n",
    "    hog_desc = cv2.HOGDescriptor()\n",
    "    hsv_image = cv2.cvtColor(image, cv2.COLOR_BGR2HSV)\n",
    "    hsv_image = cv2.resize(hsv_image, (128, 128))\n",
    "    hog_features = []\n",
    "\n",
    "    for channel in range(hsv_image.shape[2]): #computing for HSV channels\n",
    "        hog_features_channel = hog_desc.compute(hsv_image[:, :, channel])\n",
    "        hog_features.append(hog_features_channel)\n",
    "\n",
    "    return np.concatenate(hog_features)\n",
    "\n",
    "#Computing average of HOG for each painter's paintings distinctively\n",
    "for painter in kaggle_painter_names:\n",
    "    paintings_path = os.path.join(kaggle_train_path, painter)\n",
    "    images_list = [image for image in os.listdir(paintings_path)]\n",
    "\n",
    "    hog_features_list = []\n",
    "    for image_name in images_list:\n",
    "        image_path = os.path.join(paintings_path, image_name)\n",
    "        image = cv2.imread(image_path)\n",
    "        hog_features = compute_hog(image)\n",
    "        hog_features_list.append(hog_features)\n",
    "\n",
    "    hog_features_array = np.array(hog_features_list)\n",
    "    avg_hog_features = np.mean(hog_features_array, axis=0)"
   ]
  },
  {
   "cell_type": "markdown",
   "metadata": {},
   "source": [
    "Feature 2: LBP"
   ]
  },
  {
   "cell_type": "code",
   "execution_count": 10,
   "metadata": {},
   "outputs": [],
   "source": [
    "lbp_path = \"../features/lbp.txt\""
   ]
  },
  {
   "cell_type": "code",
   "execution_count": 20,
   "metadata": {},
   "outputs": [],
   "source": [
    "def compute_lbp(image):\n",
    "    hsv_image = cv2.cvtColor(image, cv2.COLOR_BGR2HSV)\n",
    "    gray_image = hsv_image[:, :, 2] #to obtain texture information\n",
    "\n",
    "    radius = 3\n",
    "    n_points = 8 * radius\n",
    "    features = local_binary_pattern(gray_image, n_points, radius, method=\"uniform\")\n",
    "    lbp_hist, _ = np.histogram(features.ravel(), bins=np.arange(0, n_points + 3), range=(0, n_points + 2))\n",
    "    lbp_hist = lbp_hist.astype(float)\n",
    "    lbp_hist /= np.sum(lbp_hist)\n",
    "    return lbp_hist"
   ]
  },
  {
   "cell_type": "code",
   "execution_count": null,
   "metadata": {},
   "outputs": [],
   "source": [
    "with open(lbp_path, \"w\") as lbp_file:\n",
    "    #Computing standard deviation of LBP for each painter's paintings distinctively\n",
    "    for painter in kaggle_painter_names:\n",
    "        lbp_file.write(painter)\n",
    "        lbp_file.write(\"\\n\")\n",
    "\n",
    "        paintings_path = os.path.join(kaggle_train_path, painter)\n",
    "        images_list = [image for image in os.listdir(paintings_path)]\n",
    "        painter_lbp_features = []\n",
    "\n",
    "        for image_name in images_list:\n",
    "            image_path = os.path.join(paintings_path, image_name)\n",
    "            image = cv2.imread(image_path)\n",
    "            lbp_feature = compute_lbp(image)\n",
    "            painter_lbp_features.append(lbp_feature)\n",
    "\n",
    "        np.savetxt(lbp_file, [painter_lbp_features], fmt=\"%.6f\")"
   ]
  },
  {
   "cell_type": "markdown",
   "metadata": {},
   "source": [
    "Feature 3: Gray Histogram"
   ]
  },
  {
   "cell_type": "code",
   "execution_count": 11,
   "metadata": {},
   "outputs": [],
   "source": [
    "gray_hist_path = \"../features/gray_hist.txt\""
   ]
  },
  {
   "cell_type": "code",
   "execution_count": 21,
   "metadata": {},
   "outputs": [],
   "source": [
    "def compute_gray_histogram(image):\n",
    "    gray_image = cv2.cvtColor(image, cv2.COLOR_BGR2GRAY)\n",
    "    hist, _ = np.histogram(gray_image.ravel(), bins=256, range=[0,256])\n",
    "    return hist"
   ]
  },
  {
   "cell_type": "code",
   "execution_count": null,
   "metadata": {},
   "outputs": [],
   "source": [
    "with open(gray_hist_path, \"w\") as gray_hist_file:\n",
    "    for painter in kaggle_painter_names:\n",
    "        gray_hist_file.write(painter)\n",
    "        gray_hist_file.write(\"\\n\")\n",
    "\n",
    "        paintings_path = os.path.join(kaggle_train_path, painter)\n",
    "        painter_gray_hist = []\n",
    "\n",
    "        for image_name in os.listdir(paintings_path):\n",
    "            image_path = os.path.join(paintings_path, image_name)\n",
    "            image = cv2.imread(image_path)\n",
    "            gray_hist = compute_gray_histogram(image)\n",
    "            painter_gray_hist.append(gray_hist)\n",
    "\n",
    "        np.savetxt(gray_hist_file, [painter_gray_hist])"
   ]
  },
  {
   "cell_type": "markdown",
   "metadata": {},
   "source": [
    "Feature 4: Edges Histogram"
   ]
  },
  {
   "cell_type": "code",
   "execution_count": 12,
   "metadata": {},
   "outputs": [],
   "source": [
    "edges_hist_path = \"../features/edges_hist.txt\""
   ]
  },
  {
   "cell_type": "code",
   "execution_count": 22,
   "metadata": {},
   "outputs": [],
   "source": [
    "def compute_edge_histogram(image):\n",
    "    gray_image = cv2.cvtColor(image, cv2.COLOR_BGR2GRAY)\n",
    "    edges = cv2.Canny(gray_image, 50, 150)\n",
    "    hist, _ = np.histogram(edges.ravel(), bins=256, range=[0,256])\n",
    "    return hist"
   ]
  },
  {
   "cell_type": "code",
   "execution_count": null,
   "metadata": {},
   "outputs": [],
   "source": [
    "with open(edges_hist_path, \"w\") as edges_hist_file:\n",
    "    for painter in kaggle_painter_names:\n",
    "        edges_hist_file.write(painter)\n",
    "        edges_hist_file.write(\"\\n\")\n",
    "\n",
    "        paintings_path = os.path.join(kaggle_train_path, painter)\n",
    "        painter_edge_hist = []\n",
    "\n",
    "        for image_name in os.listdir(paintings_path):\n",
    "            image_path = os.path.join(paintings_path, image_name)\n",
    "            image = cv2.imread(image_path)\n",
    "            edge_hist = compute_edge_histogram(image)\n",
    "            painter_edge_hist.append(edge_hist)\n",
    "\n",
    "        np.savetxt(edges_hist_file, [painter_edge_hist], fmt=\"%.6f\")"
   ]
  },
  {
   "cell_type": "markdown",
   "metadata": {},
   "source": [
    "Feature 5: Histogram for S Component From HSV Image"
   ]
  },
  {
   "cell_type": "code",
   "execution_count": 14,
   "metadata": {},
   "outputs": [],
   "source": [
    "s_path = \"../features/s_hsv.txt\""
   ]
  },
  {
   "cell_type": "code",
   "execution_count": 24,
   "metadata": {},
   "outputs": [],
   "source": [
    "def compute_s_histogram(image):\n",
    "    hsv_image = cv2.cvtColor(image, cv2.COLOR_BGR2HSV)\n",
    "    s_component = hsv_image[:,:,1]\n",
    "    hist, _ = np.histogram(s_component.ravel(), bins=256, range=[0,256])\n",
    "    return hist"
   ]
  },
  {
   "cell_type": "code",
   "execution_count": null,
   "metadata": {},
   "outputs": [],
   "source": [
    "with open(s_path, \"w\") as s:\n",
    "    for painter in kaggle_painter_names:\n",
    "        s.write(painter)\n",
    "        s.write(\"\\n\")\n",
    "\n",
    "        paintings_path = os.path.join(kaggle_train_path, painter)\n",
    "        painter_s_hist = []\n",
    "        \n",
    "        for image_name in os.listdir(paintings_path):\n",
    "            image_path = os.path.join(paintings_path, image_name)\n",
    "            image = cv2.imread(image_path)\n",
    "            s_hist = compute_s_histogram(image)\n",
    "            painter_s_hist.append(s_hist)\n",
    "            \n",
    "        np.savetxt(s, [painter_s_hist], fmt=\"%.6f\")"
   ]
  },
  {
   "cell_type": "markdown",
   "metadata": {},
   "source": [
    "Feature 6: Histogram for B Component From RGB Image"
   ]
  },
  {
   "cell_type": "code",
   "execution_count": 16,
   "metadata": {},
   "outputs": [],
   "source": [
    "b_path = \"../features/b_rgb.txt\""
   ]
  },
  {
   "cell_type": "code",
   "execution_count": 25,
   "metadata": {},
   "outputs": [],
   "source": [
    "def compute_b_histogram(image):\n",
    "    b, g, r = cv2.split(image)\n",
    "    hist, _ = np.histogram(b.ravel(), bins=256, range=[0,256])\n",
    "    return hist"
   ]
  },
  {
   "cell_type": "code",
   "execution_count": null,
   "metadata": {},
   "outputs": [],
   "source": [
    "with open(b_path, \"w\") as b:\n",
    "    for painter in kaggle_painter_names:\n",
    "        b.write(painter)\n",
    "        b.write(\"\\n\")\n",
    "\n",
    "        paintings_path = os.path.join(kaggle_train_path, painter)\n",
    "        painter_b_hist = []\n",
    "        \n",
    "        for image_name in os.listdir(paintings_path):\n",
    "            image_path = os.path.join(paintings_path, image_name)\n",
    "            image = cv2.imread(image_path)\n",
    "            b_hist = compute_b_histogram(image)\n",
    "            painter_b_hist.append(s_hist)\n",
    "            \n",
    "        np.savetxt(b, [painter_b_hist], fmt=\"%.6f\")"
   ]
  },
  {
   "cell_type": "markdown",
   "metadata": {},
   "source": [
    "Feature 7: MSER"
   ]
  },
  {
   "cell_type": "code",
   "execution_count": null,
   "metadata": {},
   "outputs": [],
   "source": [
    "mser_path = \"../features/mser.txt\""
   ]
  },
  {
   "cell_type": "code",
   "execution_count": null,
   "metadata": {},
   "outputs": [],
   "source": [
    "def compute_mser(image):\n",
    "    gray_image = cv2.cvtColor(image, cv2.COLOR_BGR2GRAY)\n",
    "    \n",
    "    mser = cv2.MSER_create()\n",
    "    regions, _ = mser.detectRegions(gray_image)\n",
    "    \n",
    "    mser_features = []\n",
    "    for region in regions:\n",
    "        for point in region:\n",
    "            mser_features.append(point)\n",
    "    \n",
    "    return mser_features"
   ]
  },
  {
   "cell_type": "code",
   "execution_count": null,
   "metadata": {},
   "outputs": [],
   "source": [
    "with open(mser_path, \"w\") as mser_file:\n",
    "    for painter in kaggle_painter_names:\n",
    "        mser_file.write(painter)\n",
    "        mser_file.write(\"\\n\")\n",
    "\n",
    "        paintings_path = os.path.join(kaggle_train_path, painter)\n",
    "        painter_mser = []\n",
    "        \n",
    "        for image_name in os.listdir(paintings_path):\n",
    "            image_path = os.path.join(paintings_path, image_name)\n",
    "            image = cv2.imread(image_path)\n",
    "            mser = compute_mser(image)\n",
    "            painter_mser.append(mser)\n",
    "            \n",
    "        np.savetxt(mser_file, [painter_mser], fmt=\"%.6f\")"
   ]
  },
  {
   "cell_type": "markdown",
   "metadata": {},
   "source": [
    "Function to Generate Test Data"
   ]
  },
  {
   "cell_type": "code",
   "execution_count": null,
   "metadata": {},
   "outputs": [],
   "source": [
    "def get_basic_features(test_image_path):\n",
    "    test_image = cv2.imread(test_image_path)\n",
    "    #test_image = cv2.resize(test_image, (500, 500))\n",
    "\n",
    "    test_hog = compute_hog(test_image)\n",
    "    test_lbp = compute_lbp(test_image)\n",
    "    test_gray_hist = compute_gray_histogram(test_image)\n",
    "    test_edge_hist = compute_edge_histogram(test_image)\n",
    "    test_s_hist = compute_s_histogram(test_image)\n",
    "    test_b_hist = compute_b_histogram(test_image)\n",
    "    test_mser = compute_mser(test_image)\n",
    "\n",
    "    features_for_test = []\n",
    "    features_for_test.extend(test_hog) \n",
    "    features_for_test.extend(test_lbp) \n",
    "    features_for_test.extend(test_gray_hist) \n",
    "    features_for_test.extend(test_edge_hist)\n",
    "    features_for_test.extend(test_s_hist)\n",
    "    features_for_test.extend(test_b_hist)\n",
    "    features_for_test.extend(test_mser)\n",
    "\n",
    "    return features_for_test"
   ]
  },
  {
   "cell_type": "markdown",
   "metadata": {},
   "source": [
    "Train Data: Using the computed features"
   ]
  },
  {
   "cell_type": "code",
   "execution_count": 18,
   "metadata": {},
   "outputs": [],
   "source": [
    "concatenated_features_path = \"../features/concatenated_features.txt\"\n",
    "\n",
    "concatenated_features = {}\n",
    "\n",
    "#Concatenate features for each painter\n",
    "for painter in kaggle_painter_names:\n",
    "    painter_features = []\n",
    "\n",
    "    with open(hog_path, \"r\") as hog_file:\n",
    "        for line in hog_file:\n",
    "            if line.strip() == painter:\n",
    "                next_line = hog_file.readline().strip()\n",
    "                hog_features = np.fromstring(next_line, sep=\" \")\n",
    "                painter_features.extend(hog_features)\n",
    "                break\n",
    "\n",
    "    with open(lbp_path, \"r\") as lbp_file:\n",
    "        for line in lbp_file:\n",
    "            if line.strip() == painter:\n",
    "                next_line = lbp_file.readline().strip()\n",
    "                lbp_features = np.fromstring(next_line, sep=\" \")\n",
    "                painter_features.extend(lbp_features)\n",
    "                break\n",
    "\n",
    "    with open(gray_hist_path, \"r\") as gray_hist_file:\n",
    "        for line in gray_hist_file:\n",
    "            if line.strip() == painter:\n",
    "                next_line = gray_hist_file.readline().strip()\n",
    "                gray_hist_file = np.fromstring(next_line, sep=\" \")\n",
    "                painter_features.extend(gray_hist_file)\n",
    "                break\n",
    "\n",
    "    with open(edges_hist_path, \"r\") as edges_hist_file:\n",
    "        for line in edges_hist_file:\n",
    "            if line.strip() == painter:\n",
    "                next_line = edges_hist_file.readline().strip()\n",
    "                edges_hist = np.fromstring(next_line, sep=\" \")\n",
    "                painter_features.extend(edges_hist)\n",
    "                break\n",
    "\n",
    "    with open(s_path, \"r\") as s_file:\n",
    "        for line in s_file:\n",
    "            if line.strip() == painter:\n",
    "                next_line = s_file.readline().strip()\n",
    "                s = np.fromstring(next_line, sep=\" \")\n",
    "                painter_features.extend(s)\n",
    "                break\n",
    "\n",
    "    with open(b_path, \"r\") as b_file:\n",
    "        for line in b_file:\n",
    "            if line.strip() == painter:\n",
    "                next_line = b_file.readline().strip()\n",
    "                b = np.fromstring(next_line, sep=\" \")\n",
    "                painter_features.extend(b)\n",
    "                break\n",
    "\n",
    "    with open(mser_path, \"r\") as mser_file:\n",
    "        for line in mser_file:\n",
    "            if line.strip() == painter:\n",
    "                next_line = mser_file.readline().strip()\n",
    "                mser_features = np.fromstring(next_line, sep=\" \")\n",
    "                painter_features.extend(mser_features)\n",
    "                break\n",
    "\n",
    "    #Add the corresponding features for that painter\n",
    "    concatenated_features[painter] = np.array(painter_features)\n",
    "\n",
    "#Save concatenated features to the file\n",
    "with open(concatenated_features_path, \"w\") as concatenated_file:\n",
    "    for painter, features in concatenated_features.items():\n",
    "        concatenated_file.write(painter + \"\\n\")\n",
    "        np.savetxt(concatenated_file, [features], fmt=\"%.6f\")"
   ]
  },
  {
   "cell_type": "markdown",
   "metadata": {},
   "source": [
    "Train Data: Obtain the Data"
   ]
  },
  {
   "cell_type": "code",
   "execution_count": 27,
   "metadata": {},
   "outputs": [],
   "source": [
    "X_train = []\n",
    "y_train = []\n",
    "\n",
    "for painter in kaggle_painter_names:\n",
    "    y_train.append([painter_ids[painter]])\n",
    "\n",
    "with open(concatenated_features_path, \"r\") as concatenated_file:\n",
    "    lines = concatenated_file.readlines()\n",
    "    for i in range(0, len(lines), 2):  #Every other line is a painter name\n",
    "        painter_name = lines[i].strip()\n",
    "        if painter_name in kaggle_painter_names:\n",
    "            features = np.fromstring(lines[i + 1].strip(), sep=\" \")\n",
    "            X_train.append(features)\n",
    "\n",
    "X_train = np.array(X_train)\n",
    "y_train = np.array(y_train)"
   ]
  },
  {
   "cell_type": "markdown",
   "metadata": {},
   "source": [
    "Test Data"
   ]
  },
  {
   "cell_type": "code",
   "execution_count": null,
   "metadata": {},
   "outputs": [],
   "source": [
    "X_test = []\n",
    "y_test = []\n",
    "\n",
    "for painter in kaggle_painter_names:\n",
    "    test_paintings_path = os.path.join(kaggle_test_path, painter)\n",
    "    \n",
    "    for test_image_name in os.listdir(test_paintings_path):\n",
    "        test_image_path = os.path.join(test_paintings_path, test_image_name)\n",
    "        test_features = get_basic_features(test_image_path)\n",
    "        X_test.append(test_features)\n",
    "        y_test.append(painter_ids[painter])\n",
    "\n",
    "X_test = np.array(X_test)\n",
    "y_test = np.array(y_test)"
   ]
  },
  {
   "cell_type": "markdown",
   "metadata": {},
   "source": [
    "ML Model 1: MLP"
   ]
  },
  {
   "cell_type": "code",
   "execution_count": 28,
   "metadata": {},
   "outputs": [
    {
     "name": "stderr",
     "output_type": "stream",
     "text": [
      "c:\\Users\\user\\AppData\\Local\\Programs\\Python\\Python39\\lib\\site-packages\\sklearn\\neural_network\\_multilayer_perceptron.py:1101: DataConversionWarning: A column-vector y was passed when a 1d array was expected. Please change the shape of y to (n_samples, ), for example using ravel().\n",
      "  y = column_or_1d(y, warn=True)\n",
      "c:\\Users\\user\\AppData\\Local\\Programs\\Python\\Python39\\lib\\site-packages\\sklearn\\metrics\\_classification.py:1497: UndefinedMetricWarning: Precision is ill-defined and being set to 0.0 in labels with no predicted samples. Use `zero_division` parameter to control this behavior.\n",
      "  _warn_prf(average, modifier, f\"{metric.capitalize()} is\", len(result))\n",
      "c:\\Users\\user\\AppData\\Local\\Programs\\Python\\Python39\\lib\\site-packages\\sklearn\\metrics\\_classification.py:1497: UndefinedMetricWarning: Precision is ill-defined and being set to 0.0 in labels with no predicted samples. Use `zero_division` parameter to control this behavior.\n",
      "  _warn_prf(average, modifier, f\"{metric.capitalize()} is\", len(result))\n",
      "c:\\Users\\user\\AppData\\Local\\Programs\\Python\\Python39\\lib\\site-packages\\sklearn\\metrics\\_classification.py:1497: UndefinedMetricWarning: Precision is ill-defined and being set to 0.0 in labels with no predicted samples. Use `zero_division` parameter to control this behavior.\n",
      "  _warn_prf(average, modifier, f\"{metric.capitalize()} is\", len(result))\n"
     ]
    }
   ],
   "source": [
    "mlp_model = MLPClassifier(hidden_layer_sizes=(100, 50), max_iter=500, random_state=42)\n",
    "\n",
    "mlp_model.fit(X_train, y_train)\n",
    "y_pred_mlp = mlp_model.predict(X_test)\n",
    "\n",
    "results_mlp_path = \"../results/results_mlp.txt\"\n",
    "\n",
    "accuracy_mlp = accuracy_score(y_test, y_pred_mlp)\n",
    "report_mlp = classification_report(y_test, y_pred_mlp)\n",
    "\n",
    "with open(results_mlp_path, \"w\") as results_mlp:\n",
    "    results_mlp.write(report_mlp)\n",
    "    results_mlp.write(\"\\n\")\n",
    "    results_mlp.write(f\"Accuracy: {accuracy_mlp}\")"
   ]
  },
  {
   "cell_type": "markdown",
   "metadata": {},
   "source": [
    "ML Model 2: SVM"
   ]
  },
  {
   "cell_type": "code",
   "execution_count": 29,
   "metadata": {},
   "outputs": [
    {
     "name": "stderr",
     "output_type": "stream",
     "text": [
      "c:\\Users\\user\\AppData\\Local\\Programs\\Python\\Python39\\lib\\site-packages\\sklearn\\utils\\validation.py:1229: DataConversionWarning: A column-vector y was passed when a 1d array was expected. Please change the shape of y to (n_samples, ), for example using ravel().\n",
      "  y = column_or_1d(y, warn=True)\n",
      "c:\\Users\\user\\AppData\\Local\\Programs\\Python\\Python39\\lib\\site-packages\\sklearn\\metrics\\_classification.py:1497: UndefinedMetricWarning: Precision is ill-defined and being set to 0.0 in labels with no predicted samples. Use `zero_division` parameter to control this behavior.\n",
      "  _warn_prf(average, modifier, f\"{metric.capitalize()} is\", len(result))\n",
      "c:\\Users\\user\\AppData\\Local\\Programs\\Python\\Python39\\lib\\site-packages\\sklearn\\metrics\\_classification.py:1497: UndefinedMetricWarning: Precision is ill-defined and being set to 0.0 in labels with no predicted samples. Use `zero_division` parameter to control this behavior.\n",
      "  _warn_prf(average, modifier, f\"{metric.capitalize()} is\", len(result))\n",
      "c:\\Users\\user\\AppData\\Local\\Programs\\Python\\Python39\\lib\\site-packages\\sklearn\\metrics\\_classification.py:1497: UndefinedMetricWarning: Precision is ill-defined and being set to 0.0 in labels with no predicted samples. Use `zero_division` parameter to control this behavior.\n",
      "  _warn_prf(average, modifier, f\"{metric.capitalize()} is\", len(result))\n"
     ]
    }
   ],
   "source": [
    "svm_model = SVC(kernel='linear', random_state=42)\n",
    "\n",
    "svm_model.fit(X_train, y_train)\n",
    "y_pred_svm = svm_model.predict(X_test)\n",
    "\n",
    "accuracy_svm = accuracy_score(y_test, y_pred_svm)\n",
    "report_svm = classification_report(y_test, y_pred_svm)\n",
    "\n",
    "results_svm_path = \"../results/results_svm.txt\"\n",
    "\n",
    "with open(results_svm_path, \"w\") as results_svm:\n",
    "    results_svm.write(report_svm)\n",
    "    results_svm.write(\"\\n\")\n",
    "    results_svm.write(f\"Accuracy: {accuracy_svm}\")"
   ]
  },
  {
   "cell_type": "markdown",
   "metadata": {},
   "source": [
    "ML Model 3: XGBoost"
   ]
  },
  {
   "cell_type": "code",
   "execution_count": 30,
   "metadata": {},
   "outputs": [
    {
     "name": "stderr",
     "output_type": "stream",
     "text": [
      "c:\\Users\\user\\AppData\\Local\\Programs\\Python\\Python39\\lib\\site-packages\\sklearn\\metrics\\_classification.py:1497: UndefinedMetricWarning: Precision is ill-defined and being set to 0.0 in labels with no predicted samples. Use `zero_division` parameter to control this behavior.\n",
      "  _warn_prf(average, modifier, f\"{metric.capitalize()} is\", len(result))\n",
      "c:\\Users\\user\\AppData\\Local\\Programs\\Python\\Python39\\lib\\site-packages\\sklearn\\metrics\\_classification.py:1497: UndefinedMetricWarning: Precision is ill-defined and being set to 0.0 in labels with no predicted samples. Use `zero_division` parameter to control this behavior.\n",
      "  _warn_prf(average, modifier, f\"{metric.capitalize()} is\", len(result))\n",
      "c:\\Users\\user\\AppData\\Local\\Programs\\Python\\Python39\\lib\\site-packages\\sklearn\\metrics\\_classification.py:1497: UndefinedMetricWarning: Precision is ill-defined and being set to 0.0 in labels with no predicted samples. Use `zero_division` parameter to control this behavior.\n",
      "  _warn_prf(average, modifier, f\"{metric.capitalize()} is\", len(result))\n"
     ]
    }
   ],
   "source": [
    "xgb_model = xgb.XGBClassifier(random_state=42)\n",
    "\n",
    "xgb_model.fit(X_train, y_train)\n",
    "y_pred_xgb = xgb_model.predict(X_test)\n",
    "\n",
    "accuracy_xgb = accuracy_score(y_test, y_pred_xgb)\n",
    "report_xgb = classification_report(y_test, y_pred_xgb)\n",
    "\n",
    "results_xgb_path_1 = \"../results/results_xgb.txt\"\n",
    "\n",
    "with open(results_xgb_path_1, \"w\") as results_xgb:\n",
    "    results_xgb.write(report_xgb)\n",
    "    results_xgb.write(\"\\n\")\n",
    "    results_xgb.write(f\"Accuracy: {accuracy_xgb}\")"
   ]
  }
 ],
 "metadata": {
  "kernelspec": {
   "display_name": "Python 3",
   "language": "python",
   "name": "python3"
  },
  "language_info": {
   "codemirror_mode": {
    "name": "ipython",
    "version": 3
   },
   "file_extension": ".py",
   "mimetype": "text/x-python",
   "name": "python",
   "nbconvert_exporter": "python",
   "pygments_lexer": "ipython3",
   "version": "3.9.1"
  }
 },
 "nbformat": 4,
 "nbformat_minor": 2
}
