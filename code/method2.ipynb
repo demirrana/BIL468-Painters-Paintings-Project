{
 "cells": [
  {
   "cell_type": "code",
   "execution_count": null,
   "metadata": {},
   "outputs": [],
   "source": [
    "import os\n",
    "\n",
    "import cv2\n",
    "import pandas as pd\n",
    "import numpy as np\n",
    "\n",
    "from skimage.feature import local_binary_pattern"
   ]
  },
  {
   "cell_type": "markdown",
   "metadata": {},
   "source": [
    "Paths are initialized"
   ]
  },
  {
   "cell_type": "code",
   "execution_count": null,
   "metadata": {},
   "outputs": [],
   "source": [
    "#wikiart (large dataset) will be added later\n",
    "\n",
    "kaggle_train_path = \"../data/train\"\n",
    "kaggle_test_path = \"../data/test\"\n",
    "\n",
    "features_path = \"../features\"\n",
    "painters_path = \"../data/artists.csv\"\n",
    "\n",
    "kaggle_painter_names = os.listdir(kaggle_train_path)\n",
    "painters = pd.read_csv(painters_path)\n",
    "painters = painters[\"name\"]"
   ]
  },
  {
   "cell_type": "markdown",
   "metadata": {},
   "source": [
    "Feature 1: Average of HOG"
   ]
  },
  {
   "cell_type": "code",
   "execution_count": null,
   "metadata": {},
   "outputs": [],
   "source": [
    "#Computing HOG over an image\n",
    "def compute_hog(image):\n",
    "    hog_desc = cv2.HOGDescriptor()\n",
    "    hsv_image = cv2.cvtColor(image, cv2.COLOR_BGR2HSV)\n",
    "    hog_features = []\n",
    "\n",
    "    for channel in range(hsv_image.shape[2]): #computing for HSV channels\n",
    "        hog_features_channel = hog_desc.compute(hsv_image[:, :, channel])\n",
    "        hog_features.append(hog_features_channel)\n",
    "\n",
    "    return np.concatenate(hog_features)\n",
    "\n",
    "#Computing average of HOG for each painter's paintings distinctively\n",
    "for painter in kaggle_painter_names:\n",
    "    paintings_path = os.path.join(kaggle_train_path, painter)\n",
    "    images_list = [image for image in os.listdir(paintings_path)]\n",
    "\n",
    "    hog_features_list = []\n",
    "    for image_name in images_list:\n",
    "        image_path = os.path.join(paintings_path, image_name)\n",
    "        image = cv2.imread(image_path)\n",
    "        hog_features = compute_hog(image)\n",
    "        hog_features_list.append(hog_features)\n",
    "\n",
    "    hog_features_array = np.array(hog_features_list)\n",
    "    avg_hog_features = np.mean(hog_features_array, axis=0)"
   ]
  },
  {
   "cell_type": "markdown",
   "metadata": {},
   "source": [
    "Feature 2: Average of LBP"
   ]
  },
  {
   "cell_type": "code",
   "execution_count": null,
   "metadata": {},
   "outputs": [],
   "source": [
    "lbp_avg_path = \"../features/lbp_avg.txt\"\n",
    "\n",
    "def compute_lbp(image):\n",
    "    hsv_image = cv2.cvtColor(image, cv2.COLOR_BGR2HSV)\n",
    "    gray_image = hsv_image[:, :, 2] #to obtain texture information\n",
    "\n",
    "    radius = 3\n",
    "    n_points = 8 * radius\n",
    "    features = local_binary_pattern(gray_image, n_points, radius, method=\"uniform\")\n",
    "    lbp_hist, _ = np.histogram(features.ravel(), bins=np.arange(0, n_points + 3), range=(0, n_points + 2))\n",
    "    lbp_hist = lbp_hist.astype(float)\n",
    "    lbp_hist /= np.sum(lbp_hist)\n",
    "    return lbp_hist\n",
    "\n",
    "average_lbp_features = {}\n",
    "\n",
    "with open(lbp_avg_path, \"w\") as lbp_avg:\n",
    "    #Computing average of LBP for each painter's paintings distinctively\n",
    "    for painter in kaggle_painter_names:\n",
    "        lbp_avg.write(painter)\n",
    "        lbp_avg.write(\"\\n\")\n",
    "\n",
    "        paintings_path = os.path.join(kaggle_train_path, painter)\n",
    "        images_list = [image for image in os.listdir(paintings_path)]\n",
    "        painter_lbp_features = []\n",
    "\n",
    "        for image_name in images_list:\n",
    "            image_path = os.path.join(paintings_path, image_name)\n",
    "            image = cv2.imread(image_path)\n",
    "            lbp_feature = compute_lbp(image)\n",
    "            painter_lbp_features.append(lbp_feature)\n",
    "\n",
    "        average_lbp_features[painter] = np.mean(painter_lbp_features, axis=0)\n",
    "        np.savetxt(lbp_avg, [average_lbp_features[painter]], fmt=\"%.6f\")"
   ]
  },
  {
   "cell_type": "markdown",
   "metadata": {},
   "source": [
    "Feature 3: Standard Deviation of HOG"
   ]
  },
  {
   "cell_type": "code",
   "execution_count": null,
   "metadata": {},
   "outputs": [],
   "source": [
    "#Computing standard deviation of HOG for each painter's paintings distinctively\n",
    "for painter in kaggle_painter_names:\n",
    "    paintings_path = os.path.join(kaggle_train_path, painter)\n",
    "    images_list = [image for image in os.listdir(paintings_path)]\n",
    "\n",
    "    hog_features_list = []\n",
    "    for image_name in images_list:\n",
    "        image_path = os.path.join(paintings_path, image_name)\n",
    "        image = cv2.imread(image_path)\n",
    "        hog_features = compute_hog(image)\n",
    "        hog_features_list.append(hog_features)\n",
    "\n",
    "    hog_features_array = np.array(hog_features_list)\n",
    "    avg_hog_features = np.std(hog_features_array, axis=0)"
   ]
  },
  {
   "cell_type": "markdown",
   "metadata": {},
   "source": [
    "Feature 4: Standard Deviation of LBP"
   ]
  },
  {
   "cell_type": "code",
   "execution_count": null,
   "metadata": {},
   "outputs": [],
   "source": [
    "#Computing standard deviation of LBP for each painter's paintings distinctively\n",
    "for painter in kaggle_painter_names:\n",
    "    paintings_path = os.path.join(kaggle_train_path, painter)\n",
    "    images_list = [image for image in os.listdir(paintings_path)]\n",
    "    painter_lbp_features = []\n",
    "\n",
    "    for image_name in images_list:\n",
    "        image_path = os.path.join(paintings_path, image_name)\n",
    "        image = cv2.imread(image_path)\n",
    "        lbp_feature = compute_lbp(image)\n",
    "        painter_lbp_features.append(lbp_feature)\n",
    "\n",
    "    average_lbp_features[painter] = np.std(painter_lbp_features, axis=0)"
   ]
  },
  {
   "cell_type": "markdown",
   "metadata": {},
   "source": [
    "Feature 5: Average of Gray Histogram"
   ]
  },
  {
   "cell_type": "code",
   "execution_count": null,
   "metadata": {},
   "outputs": [],
   "source": [
    "gray_hist_avg_path = \"../features/gray_hist_avg.txt\"\n",
    "\n",
    "def compute_gray_histogram(image):\n",
    "    gray_image = cv2.cvtColor(image, cv2.COLOR_BGR2GRAY)\n",
    "    hist, _ = np.histogram(gray_image.ravel(), bins=256, range=[0,256])\n",
    "    return hist\n",
    "\n",
    "avg_gray_hist = {}\n",
    "\n",
    "with open(gray_hist_avg_path, \"w\") as gray_hist_avg:\n",
    "    for painter in kaggle_painter_names:\n",
    "        gray_hist_avg.write(painter)\n",
    "        gray_hist_avg.write(\"\\n\")\n",
    "\n",
    "        paintings_path = os.path.join(kaggle_train_path, painter)\n",
    "        painter_gray_hist = []\n",
    "\n",
    "        for image_name in os.listdir(paintings_path):\n",
    "            image_path = os.path.join(paintings_path, image_name)\n",
    "            image = cv2.imread(image_path)\n",
    "            gray_hist = compute_gray_histogram(image)\n",
    "            painter_gray_hist.append(gray_hist)\n",
    "\n",
    "        avg_gray_hist[painter] = np.mean(painter_gray_hist, axis=0)\n",
    "        np.savetxt(gray_hist_avg, [avg_gray_hist[painter]])"
   ]
  },
  {
   "cell_type": "markdown",
   "metadata": {},
   "source": [
    "Feature 6: Average of Image Edges Histogram"
   ]
  },
  {
   "cell_type": "code",
   "execution_count": null,
   "metadata": {},
   "outputs": [],
   "source": [
    "edges_hist_avg_path = \"../features/edges_hist_avg.txt\"\n",
    "\n",
    "def compute_edge_histogram(image):\n",
    "    gray_image = cv2.cvtColor(image, cv2.COLOR_BGR2GRAY)\n",
    "    edges = cv2.Canny(gray_image, 50, 150)\n",
    "    hist, _ = np.histogram(edges.ravel(), bins=256, range=[0,256])\n",
    "    return hist\n",
    "\n",
    "avg_edge_hist = {}\n",
    "\n",
    "with open(edges_hist_avg_path, \"w\") as edges_hist_avg:\n",
    "    for painter in kaggle_painter_names:\n",
    "        edges_hist_avg.write(painter)\n",
    "        edges_hist_avg.write(\"\\n\")\n",
    "\n",
    "        paintings_path = os.path.join(kaggle_train_path, painter)\n",
    "        painter_edge_hist = []\n",
    "\n",
    "        for image_name in os.listdir(paintings_path):\n",
    "            image_path = os.path.join(paintings_path, image_name)\n",
    "            image = cv2.imread(image_path)\n",
    "            edge_hist = compute_edge_histogram(image)\n",
    "            painter_edge_hist.append(edge_hist)\n",
    "\n",
    "        avg_edge_hist[painter] = np.mean(painter_edge_hist, axis=0)\n",
    "        np.savetxt(edges_hist_avg, [avg_edge_hist[painter]], fmt=\"%.6f\")"
   ]
  },
  {
   "cell_type": "markdown",
   "metadata": {},
   "source": [
    "Feature 7: Means of Image Edges Histogram"
   ]
  },
  {
   "cell_type": "code",
   "execution_count": null,
   "metadata": {},
   "outputs": [],
   "source": [
    "edges_feat_mean_path = \"../features/edges_feat_mean.txt\"\n",
    "\n",
    "def compute_edge_mean(image):\n",
    "    gray_image = cv2.cvtColor(image, cv2.COLOR_BGR2GRAY)\n",
    "    edges = cv2.Canny(gray_image, 50, 150)\n",
    "    edge_mean = np.mean(edges)\n",
    "    return edge_mean\n",
    "\n",
    "edge_features_means = {}\n",
    "\n",
    "with open(edges_feat_mean_path, \"w\") as edges_feat_mean:\n",
    "    for painter in kaggle_painter_names:\n",
    "        edges_feat_mean.write(painter)\n",
    "        edges_feat_mean.write(\"\\n\")\n",
    "\n",
    "        paintings_path = os.path.join(kaggle_train_path, painter)\n",
    "        painter_edge_means = []\n",
    "\n",
    "        for image_name in os.listdir(paintings_path):\n",
    "            image_path = os.path.join(paintings_path, image_name)\n",
    "            image = cv2.imread(image_path)\n",
    "            edge_mean = compute_edge_mean(image)\n",
    "            painter_edge_means.append(edge_mean)\n",
    "\n",
    "        edge_features_means[painter] = np.mean(painter_edge_means)\n",
    "        np.savetxt(edges_feat_mean, [edge_features_means[painter]], fmt=\"%.6f\")"
   ]
  },
  {
   "cell_type": "markdown",
   "metadata": {},
   "source": [
    "Feature 8: Average of Histogram for S Component From HSV Image"
   ]
  },
  {
   "cell_type": "code",
   "execution_count": null,
   "metadata": {},
   "outputs": [],
   "source": [
    "s_hsv_avg_path = \"../features/s_hsv_avg.txt\"\n",
    "\n",
    "def compute_s_histogram(image):\n",
    "    hsv_image = cv2.cvtColor(image, cv2.COLOR_BGR2HSV)\n",
    "    s_component = hsv_image[:,:,1]\n",
    "    hist, _ = np.histogram(s_component.ravel(), bins=256, range=[0,256])\n",
    "    return hist\n",
    "\n",
    "avg_s_hist = {}\n",
    "\n",
    "with open(s_hsv_avg_path, \"w\") as s_hsv_avg:\n",
    "    for painter in kaggle_painter_names:\n",
    "        s_hsv_avg.write(painter)\n",
    "        s_hsv_avg.write(\"\\n\")\n",
    "\n",
    "        paintings_path = os.path.join(kaggle_train_path, painter)\n",
    "        painter_s_hist = []\n",
    "        \n",
    "        for image_name in os.listdir(paintings_path):\n",
    "            image_path = os.path.join(paintings_path, image_name)\n",
    "            image = cv2.imread(image_path)\n",
    "            s_hist = compute_s_histogram(image)\n",
    "            painter_s_hist.append(s_hist)\n",
    "            \n",
    "        avg_s_hist[painter] = np.mean(painter_s_hist, axis=0)\n",
    "        np.savetxt(s_hsv_avg, [avg_s_hist[painter]], fmt=\"%.6f\")"
   ]
  },
  {
   "cell_type": "markdown",
   "metadata": {},
   "source": [
    "Feature 9: Standard Deviation of Histogram for S Component From HSV Image"
   ]
  },
  {
   "cell_type": "code",
   "execution_count": null,
   "metadata": {},
   "outputs": [],
   "source": [
    "s_hsv_std_path = \"../features/s_hsv_std.txt\"\n",
    "\n",
    "std_s_hist = {}\n",
    "\n",
    "with open(s_hsv_std_path, \"w\") as s_hsv_std:\n",
    "    for painter in kaggle_painter_names:\n",
    "        s_hsv_std.write(painter)\n",
    "        s_hsv_std.write(\"\\n\")\n",
    "\n",
    "        paintings_path = os.path.join(kaggle_train_path, painter)\n",
    "        painter_s_hist = []\n",
    "        \n",
    "        for image_name in os.listdir(paintings_path):\n",
    "            image_path = os.path.join(paintings_path, image_name)\n",
    "            image = cv2.imread(image_path)\n",
    "            s_hist = compute_s_histogram(image)\n",
    "            painter_s_hist.append(s_hist)\n",
    "            \n",
    "        std_s_hist[painter] = np.std(painter_s_hist, axis=0)\n",
    "        np.savetxt(s_hsv_std, [std_s_hist[painter]], fmt=\"%.6f\")"
   ]
  },
  {
   "cell_type": "markdown",
   "metadata": {},
   "source": [
    "Feature 10: Average of Histogram for B Component From RGB Image"
   ]
  },
  {
   "cell_type": "code",
   "execution_count": null,
   "metadata": {},
   "outputs": [],
   "source": [
    "b_rgb_avg_path = \"../features/b_rgb_avg.txt\"\n",
    "\n",
    "def compute_b_histogram(image):\n",
    "    b, g, r = cv2.split(image)\n",
    "    hist, _ = np.histogram(b.ravel(), bins=256, range=[0,256])\n",
    "    return hist\n",
    "\n",
    "avg_b_hist = {}\n",
    "\n",
    "with open(b_rgb_avg_path, \"w\") as b_rgb_avg:\n",
    "    for painter in kaggle_painter_names:\n",
    "        b_rgb_avg.write(painter)\n",
    "        b_rgb_avg.write(\"\\n\")\n",
    "\n",
    "        paintings_path = os.path.join(kaggle_train_path, painter)\n",
    "        painter_b_hist = []\n",
    "        \n",
    "        for image_name in os.listdir(paintings_path):\n",
    "            image_path = os.path.join(paintings_path, image_name)\n",
    "            image = cv2.imread(image_path)\n",
    "            b_hist = compute_b_histogram(image)\n",
    "            painter_b_hist.append(s_hist)\n",
    "            \n",
    "        avg_b_hist[painter] = np.mean(painter_b_hist, axis=0)\n",
    "        np.savetxt(b_rgb_avg, [avg_b_hist[painter]], fmt=\"%.6f\")"
   ]
  },
  {
   "cell_type": "markdown",
   "metadata": {},
   "source": [
    "Feature 11: Standard Deviation of Histogram for B Component From RGB Image"
   ]
  },
  {
   "cell_type": "code",
   "execution_count": null,
   "metadata": {},
   "outputs": [],
   "source": [
    "b_rgb_std_path = \"../features/b_rgb_std.txt\"\n",
    "\n",
    "std_b_hist = {}\n",
    "\n",
    "with open(b_rgb_std_path, \"w\") as b_std_avg:\n",
    "    for painter in kaggle_painter_names:\n",
    "        b_std_avg.write(painter)\n",
    "        b_std_avg.write(\"\\n\")\n",
    "\n",
    "        paintings_path = os.path.join(kaggle_train_path, painter)\n",
    "        painter_b_hist = []\n",
    "        \n",
    "        for image_name in os.listdir(paintings_path):\n",
    "            image_path = os.path.join(paintings_path, image_name)\n",
    "            image = cv2.imread(image_path)\n",
    "            b_hist = compute_b_histogram(image)\n",
    "            painter_b_hist.append(s_hist)\n",
    "            \n",
    "        std_b_hist[painter] = np.std(painter_b_hist, axis=0)\n",
    "        np.savetxt(b_std_avg, [std_b_hist[painter]], fmt=\"%.6f\")"
   ]
  },
  {
   "cell_type": "markdown",
   "metadata": {},
   "source": [
    "Preparation of Test Data"
   ]
  },
  {
   "cell_type": "code",
   "execution_count": null,
   "metadata": {},
   "outputs": [],
   "source": [
    "def features_for_test(test_image_path):\n",
    "    test_image = cv2.imread(test_image_path)\n",
    "    test_image = cv2.resize(test_image, (500, 500))\n",
    "\n",
    "    test_lbp = compute_lbp(test_image)\n",
    "    test_gray_hist = compute_gray_histogram(test_image)\n",
    "    test_edge_hist = compute_edge_histogram(test_image)\n",
    "    test_edge_mean = compute_edge_mean(test_image)\n",
    "    test_s_hist = compute_s_histogram(test_image)\n",
    "    test_b_hist = compute_b_histogram(test_image)\n",
    "\n",
    "    features_for_test = []\n",
    "    features_for_test.extend(test_lbp) \n",
    "    features_for_test.extend(test_gray_hist) \n",
    "    features_for_test.extend(test_edge_hist) \n",
    "    features_for_test.append(test_edge_mean)\n",
    "    features_for_test.extend(test_s_hist)\n",
    "    features_for_test.extend(test_s_hist)\n",
    "    features_for_test.extend(test_b_hist)\n",
    "    features_for_test.extend(test_b_hist)\n",
    "\n",
    "    return features_for_test"
   ]
  },
  {
   "cell_type": "markdown",
   "metadata": {},
   "source": [
    "# First Way"
   ]
  },
  {
   "cell_type": "markdown",
   "metadata": {},
   "source": [
    "Train Data 1: Using the computed features (including averages, standard deviations etc.)"
   ]
  },
  {
   "cell_type": "code",
   "execution_count": null,
   "metadata": {},
   "outputs": [],
   "source": [
    "concatenated_features_path = \"../features/concatenated_features.txt\"\n",
    "\n",
    "concatenated_features = {}\n",
    "\n",
    "#Concatenate features for each painter\n",
    "for painter in kaggle_painter_names:\n",
    "    painter_features = []\n",
    "\n",
    "    with open(lbp_avg_path, \"r\") as lbp_avg_file:\n",
    "        for line in lbp_avg_file:\n",
    "            if line.strip() == painter:\n",
    "                next_line = lbp_avg_file.readline().strip()\n",
    "                average_lbp_features = np.fromstring(next_line, sep=\" \")\n",
    "                painter_features.extend(average_lbp_features)\n",
    "                break\n",
    "\n",
    "    with open(gray_hist_avg_path, \"r\") as gray_hist_file:\n",
    "        for line in gray_hist_file:\n",
    "            if line.strip() == painter:\n",
    "                next_line = gray_hist_file.readline().strip()\n",
    "                gray_hist_avg = np.fromstring(next_line, sep=\" \")\n",
    "                painter_features.extend(gray_hist_avg)\n",
    "                break\n",
    "\n",
    "    with open(edges_hist_avg_path, \"r\") as edges_hist_file:\n",
    "        for line in edges_hist_file:\n",
    "            if line.strip() == painter:\n",
    "                next_line = edges_hist_file.readline().strip()\n",
    "                edges_hist_avg = np.fromstring(next_line, sep=\" \")\n",
    "                painter_features.extend(edges_hist_avg)\n",
    "                break\n",
    "\n",
    "    with open(edges_feat_mean_path, \"r\") as edges_feat_mean_file:\n",
    "        for line in edges_feat_mean_file:\n",
    "            if line.strip() == painter:\n",
    "                next_line = edges_feat_mean_file.readline().strip()\n",
    "                edge_feat_mean = np.fromstring(next_line, sep=\" \")\n",
    "                painter_features.extend(edge_feat_mean)\n",
    "                break\n",
    "\n",
    "    with open(s_hsv_avg_path, \"r\") as s_hsv_avg_file:\n",
    "        for line in s_hsv_avg_file:\n",
    "            if line.strip() == painter:\n",
    "                next_line = s_hsv_avg_file.readline().strip()\n",
    "                s_hsv_avg = np.fromstring(next_line, sep=\" \")\n",
    "                painter_features.extend(s_hsv_avg)\n",
    "                break\n",
    "\n",
    "    with open(s_hsv_std_path, \"r\") as s_hsv_std_file:\n",
    "        for line in s_hsv_std_file:\n",
    "            if line.strip() == painter:\n",
    "                next_line = s_hsv_std_file.readline().strip()\n",
    "                s_hsv_std = np.fromstring(next_line, sep=\" \")\n",
    "                painter_features.extend(s_hsv_std)\n",
    "                break\n",
    "\n",
    "    with open(b_rgb_avg_path, \"r\") as b_rgb_avg_file:\n",
    "        for line in b_rgb_avg_file:\n",
    "            if line.strip() == painter:\n",
    "                next_line = b_rgb_avg_file.readline().strip()\n",
    "                b_rgb_avg = np.fromstring(next_line, sep=\" \")\n",
    "                painter_features.extend(b_rgb_avg)\n",
    "                break\n",
    "\n",
    "    with open(b_rgb_std_path, \"r\") as b_rgb_std_file:\n",
    "        for line in b_rgb_std_file:\n",
    "            if line.strip() == painter:\n",
    "                next_line = b_rgb_std_file.readline().strip()\n",
    "                b_rgb_std = np.fromstring(next_line, sep=\" \")\n",
    "                painter_features.extend(b_rgb_std)\n",
    "                break\n",
    "\n",
    "    #Add the corresponding features for that painter\n",
    "    concatenated_features[painter] = np.array(painter_features)\n",
    "\n",
    "#Save concatenated features to the file\n",
    "with open(concatenated_features_path, \"w\") as concatenated_file:\n",
    "    for painter, features in concatenated_features.items():\n",
    "        concatenated_file.write(painter + \"\\n\")\n",
    "        np.savetxt(concatenated_file, [features], fmt=\"%.6f\")"
   ]
  },
  {
   "cell_type": "markdown",
   "metadata": {},
   "source": [
    "Obtaining the test data's features"
   ]
  },
  {
   "cell_type": "code",
   "execution_count": null,
   "metadata": {},
   "outputs": [],
   "source": [
    "painter_ids = {}\n",
    "id = 0\n",
    "for painter in kaggle_painter_names:\n",
    "    painter_ids[painter] = id\n",
    "    id += 1\n",
    "\n",
    "X_test = []\n",
    "y_test = []\n",
    "\n",
    "for painter in kaggle_painter_names:\n",
    "    test_paintings_path = os.path.join(kaggle_test_path, painter)\n",
    "    \n",
    "    for test_image_name in os.listdir(test_paintings_path):\n",
    "        test_image_path = os.path.join(test_paintings_path, test_image_name)\n",
    "        test_features = features_for_test(test_image_path)\n",
    "        X_test.append(test_features)\n",
    "        y_test.append(painter_ids[painter])"
   ]
  },
  {
   "cell_type": "markdown",
   "metadata": {},
   "source": [
    "Train Data 1: Obtain the Data"
   ]
  },
  {
   "cell_type": "code",
   "execution_count": null,
   "metadata": {},
   "outputs": [],
   "source": [
    "X_train = []\n",
    "y_train = []\n",
    "\n",
    "for painter in kaggle_painter_names:\n",
    "    y_train.append([painter_ids[painter]])\n",
    "\n",
    "with open(concatenated_features_path, \"r\") as concatenated_file:\n",
    "    lines = concatenated_file.readlines()\n",
    "    for i in range(0, len(lines), 2):  #Every other line is a painter name\n",
    "        painter_name = lines[i].strip()\n",
    "        if painter_name in kaggle_painter_names:\n",
    "            features = np.fromstring(lines[i + 1].strip(), sep=\" \")\n",
    "            X_train.append(features)"
   ]
  }
 ],
 "metadata": {
  "language_info": {
   "name": "python"
  }
 },
 "nbformat": 4,
 "nbformat_minor": 2
}
