{
 "cells": [
  {
   "cell_type": "code",
   "execution_count": null,
   "metadata": {},
   "outputs": [],
   "source": [
    "import os\n",
    "\n",
    "import cv2\n",
    "import pandas as pd\n",
    "import numpy as np"
   ]
  },
  {
   "cell_type": "markdown",
   "metadata": {},
   "source": [
    "Paths are initialized"
   ]
  },
  {
   "cell_type": "code",
   "execution_count": null,
   "metadata": {},
   "outputs": [],
   "source": [
    "#wikiart (large dataset) will be added later\n",
    "\n",
    "kaggle_train_path = \"../data/train\"\n",
    "kaggle_test_path = \"../data/test\"\n",
    "\n",
    "features_path = \"../features\"\n",
    "painters_path = \"../data/artists.csv\"\n",
    "\n",
    "kaggle_painter_names = os.listdir(kaggle_train_path)\n",
    "painters = pd.read_csv(painters_path)\n",
    "painters = painters[\"name\"]"
   ]
  },
  {
   "cell_type": "markdown",
   "metadata": {},
   "source": [
    "Feature 1: Average of HOG"
   ]
  },
  {
   "cell_type": "code",
   "execution_count": null,
   "metadata": {},
   "outputs": [],
   "source": [
    "#Computing HOG over an image\n",
    "def compute_hog(image):\n",
    "    hog_desc = cv2.HOGDescriptor()\n",
    "    hsv_image = cv2.cvtColor(image, cv2.COLOR_BGR2HSV)\n",
    "    hog_features = []\n",
    "\n",
    "    for channel in range(hsv_image.shape[2]): #computing for HSV channels\n",
    "        hog_features_channel = hog_desc.compute(hsv_image[:, :, channel])\n",
    "        hog_features.append(hog_features_channel)\n",
    "\n",
    "    return np.concatenate(hog_features)\n",
    "\n",
    "#Computing average of HOG for each painter's paintings distinctively\n",
    "for painter in kaggle_painter_names:\n",
    "    paintings_path = os.path.join(kaggle_train_path, painter)\n",
    "    images_list = [image for image in os.listdir(paintings_path)]\n",
    "\n",
    "    hog_features_list = []\n",
    "    for image_name in images_list:\n",
    "        image_path = os.path.join(paintings_path, image_name)\n",
    "        image = cv2.imread(image_path)\n",
    "        hog_features = compute_hog(image)\n",
    "        hog_features_list.append(hog_features)\n",
    "\n",
    "    hog_features_array = np.array(hog_features_list)\n",
    "    avg_hog_features = np.mean(hog_features_array, axis=0)"
   ]
  }
 ],
 "metadata": {
  "language_info": {
   "name": "python"
  }
 },
 "nbformat": 4,
 "nbformat_minor": 2
}
