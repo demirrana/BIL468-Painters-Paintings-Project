{
 "cells": [
  {
   "cell_type": "code",
   "execution_count": 1,
   "metadata": {},
   "outputs": [
    {
     "name": "stderr",
     "output_type": "stream",
     "text": [
      "<ipython-input-1-6fe4e1c89cb2>:4: DeprecationWarning: \n",
      "Pyarrow will become a required dependency of pandas in the next major release of pandas (pandas 3.0),\n",
      "(to allow more performant data types, such as the Arrow string type, and better interoperability with other libraries)\n",
      "but was too old on your system - pyarrow 10.0.1 is the current minimum supported version as of this release.\n",
      "If this would cause problems for you,\n",
      "please provide us feedback at https://github.com/pandas-dev/pandas/issues/54466\n",
      "        \n",
      "  import pandas as pd\n"
     ]
    }
   ],
   "source": [
    "import os\n",
    "\n",
    "import cv2\n",
    "import pandas as pd\n",
    "import numpy as np\n",
    "import random\n",
    "\n",
    "from skimage.feature import local_binary_pattern\n",
    "\n",
    "from sklearn.neural_network import MLPClassifier\n",
    "from sklearn.metrics import classification_report, accuracy_score\n",
    "\n",
    "from sklearn.svm import SVC\n",
    "\n",
    "import xgboost as xgb\n"
   ]
  },
  {
   "cell_type": "markdown",
   "metadata": {},
   "source": [
    "Paths are initialized"
   ]
  },
  {
   "cell_type": "code",
   "execution_count": 3,
   "metadata": {},
   "outputs": [],
   "source": [
    "#wikiart (large dataset) will be added later\n",
    "\n",
    "kaggle_train_path = \"../data/train\"\n",
    "kaggle_test_path = \"../data/test\"\n",
    "\n",
    "features_path = \"../features\"\n",
    "\n",
    "kaggle_painter_names = os.listdir(kaggle_train_path)"
   ]
  },
  {
   "cell_type": "code",
   "execution_count": 4,
   "metadata": {},
   "outputs": [],
   "source": [
    "painter_ids = {}\n",
    "id = 0\n",
    "for painter in kaggle_painter_names:\n",
    "    painter_ids[painter] = id\n",
    "    id += 1"
   ]
  },
  {
   "cell_type": "markdown",
   "metadata": {},
   "source": [
    "Feature 1: Average of HOG"
   ]
  },
  {
   "cell_type": "code",
   "execution_count": null,
   "metadata": {},
   "outputs": [],
   "source": [
    "#Computing HOG over an image\n",
    "def compute_hog(image):\n",
    "    hog_desc = cv2.HOGDescriptor()\n",
    "    hsv_image = cv2.cvtColor(image, cv2.COLOR_BGR2HSV)\n",
    "    hog_features = []\n",
    "\n",
    "    for channel in range(hsv_image.shape[2]): #computing for HSV channels\n",
    "        hog_features_channel = hog_desc.compute(hsv_image[:, :, channel])\n",
    "        hog_features.append(hog_features_channel)\n",
    "\n",
    "    return np.concatenate(hog_features)\n",
    "\n",
    "#Computing average of HOG for each painter's paintings distinctively\n",
    "for painter in kaggle_painter_names:\n",
    "    paintings_path = os.path.join(kaggle_train_path, painter)\n",
    "    images_list = [image for image in os.listdir(paintings_path)]\n",
    "\n",
    "    hog_features_list = []\n",
    "    for image_name in images_list:\n",
    "        image_path = os.path.join(paintings_path, image_name)\n",
    "        image = cv2.imread(image_path)\n",
    "        hog_features = compute_hog(image)\n",
    "        hog_features_list.append(hog_features)\n",
    "\n",
    "    hog_features_array = np.array(hog_features_list)\n",
    "    avg_hog_features = np.mean(hog_features_array, axis=0)"
   ]
  },
  {
   "cell_type": "markdown",
   "metadata": {},
   "source": [
    "Feature 2: Average of LBP"
   ]
  },
  {
   "cell_type": "code",
   "execution_count": 9,
   "metadata": {},
   "outputs": [],
   "source": [
    "lbp_avg_path = \"../features/lbp_avg.txt\""
   ]
  },
  {
   "cell_type": "code",
   "execution_count": 20,
   "metadata": {},
   "outputs": [],
   "source": [
    "def compute_lbp(image):\n",
    "    hsv_image = cv2.cvtColor(image, cv2.COLOR_BGR2HSV)\n",
    "    gray_image = hsv_image[:, :, 2] #to obtain texture information\n",
    "\n",
    "    radius = 3\n",
    "    n_points = 8 * radius\n",
    "    features = local_binary_pattern(gray_image, n_points, radius, method=\"uniform\")\n",
    "    lbp_hist, _ = np.histogram(features.ravel(), bins=np.arange(0, n_points + 3), range=(0, n_points + 2))\n",
    "    lbp_hist = lbp_hist.astype(float)\n",
    "    lbp_hist /= np.sum(lbp_hist)\n",
    "    return lbp_hist"
   ]
  },
  {
   "cell_type": "code",
   "execution_count": null,
   "metadata": {},
   "outputs": [],
   "source": [
    "average_lbp_features = {}\n",
    "\n",
    "with open(lbp_avg_path, \"w\") as lbp_avg:\n",
    "    #Computing average of LBP for each painter's paintings distinctively\n",
    "    for painter in kaggle_painter_names:\n",
    "        lbp_avg.write(painter)\n",
    "        lbp_avg.write(\"\\n\")\n",
    "\n",
    "        paintings_path = os.path.join(kaggle_train_path, painter)\n",
    "        images_list = [image for image in os.listdir(paintings_path)]\n",
    "        painter_lbp_features = []\n",
    "\n",
    "        for image_name in images_list:\n",
    "            image_path = os.path.join(paintings_path, image_name)\n",
    "            image = cv2.imread(image_path)\n",
    "            lbp_feature = compute_lbp(image)\n",
    "            painter_lbp_features.append(lbp_feature)\n",
    "\n",
    "        average_lbp_features[painter] = np.mean(painter_lbp_features, axis=0)\n",
    "        np.savetxt(lbp_avg, [average_lbp_features[painter]], fmt=\"%.6f\")"
   ]
  },
  {
   "cell_type": "markdown",
   "metadata": {},
   "source": [
    "Feature 3: Standard Deviation of HOG"
   ]
  },
  {
   "cell_type": "code",
   "execution_count": null,
   "metadata": {},
   "outputs": [],
   "source": [
    "#Computing standard deviation of HOG for each painter's paintings distinctively\n",
    "for painter in kaggle_painter_names:\n",
    "    paintings_path = os.path.join(kaggle_train_path, painter)\n",
    "    images_list = [image for image in os.listdir(paintings_path)]\n",
    "\n",
    "    hog_features_list = []\n",
    "    for image_name in images_list:\n",
    "        image_path = os.path.join(paintings_path, image_name)\n",
    "        image = cv2.imread(image_path)\n",
    "        hog_features = compute_hog(image)\n",
    "        hog_features_list.append(hog_features)\n",
    "\n",
    "    hog_features_array = np.array(hog_features_list)\n",
    "    avg_hog_features = np.std(hog_features_array, axis=0)"
   ]
  },
  {
   "cell_type": "markdown",
   "metadata": {},
   "source": [
    "Feature 4: Standard Deviation of LBP"
   ]
  },
  {
   "cell_type": "code",
   "execution_count": 10,
   "metadata": {},
   "outputs": [],
   "source": [
    "lbp_std_path = \"../features/lbp_std.txt\""
   ]
  },
  {
   "cell_type": "code",
   "execution_count": null,
   "metadata": {},
   "outputs": [],
   "source": [
    "std_lbp_features = {}\n",
    "\n",
    "with open(lbp_std_path, \"w\") as lbp_std:\n",
    "    #Computing standard deviation of LBP for each painter's paintings distinctively\n",
    "    for painter in kaggle_painter_names:\n",
    "        lbp_std.write(painter)\n",
    "        lbp_std.write(\"\\n\")\n",
    "\n",
    "        paintings_path = os.path.join(kaggle_train_path, painter)\n",
    "        images_list = [image for image in os.listdir(paintings_path)]\n",
    "        painter_lbp_features = []\n",
    "\n",
    "        for image_name in images_list:\n",
    "            image_path = os.path.join(paintings_path, image_name)\n",
    "            image = cv2.imread(image_path)\n",
    "            lbp_feature = compute_lbp(image)\n",
    "            painter_lbp_features.append(lbp_feature)\n",
    "\n",
    "        std_lbp_features[painter] = np.std(painter_lbp_features, axis=0)\n",
    "        np.savetxt(lbp_std, [std_lbp_features[painter]], fmt=\"%.6f\")"
   ]
  },
  {
   "cell_type": "markdown",
   "metadata": {},
   "source": [
    "Feature 5: Average of Gray Histogram"
   ]
  },
  {
   "cell_type": "code",
   "execution_count": 11,
   "metadata": {},
   "outputs": [],
   "source": [
    "gray_hist_avg_path = \"../features/gray_hist_avg.txt\""
   ]
  },
  {
   "cell_type": "code",
   "execution_count": 21,
   "metadata": {},
   "outputs": [],
   "source": [
    "def compute_gray_histogram(image):\n",
    "    gray_image = cv2.cvtColor(image, cv2.COLOR_BGR2GRAY)\n",
    "    hist, _ = np.histogram(gray_image.ravel(), bins=256, range=[0,256])\n",
    "    return hist"
   ]
  },
  {
   "cell_type": "code",
   "execution_count": null,
   "metadata": {},
   "outputs": [],
   "source": [
    "avg_gray_hist = {}\n",
    "\n",
    "with open(gray_hist_avg_path, \"w\") as gray_hist_avg:\n",
    "    for painter in kaggle_painter_names:\n",
    "        gray_hist_avg.write(painter)\n",
    "        gray_hist_avg.write(\"\\n\")\n",
    "\n",
    "        paintings_path = os.path.join(kaggle_train_path, painter)\n",
    "        painter_gray_hist = []\n",
    "\n",
    "        for image_name in os.listdir(paintings_path):\n",
    "            image_path = os.path.join(paintings_path, image_name)\n",
    "            image = cv2.imread(image_path)\n",
    "            gray_hist = compute_gray_histogram(image)\n",
    "            painter_gray_hist.append(gray_hist)\n",
    "\n",
    "        avg_gray_hist[painter] = np.mean(painter_gray_hist, axis=0)\n",
    "        np.savetxt(gray_hist_avg, [avg_gray_hist[painter]])"
   ]
  },
  {
   "cell_type": "markdown",
   "metadata": {},
   "source": [
    "Feature 6: Average of Image Edges Histogram"
   ]
  },
  {
   "cell_type": "code",
   "execution_count": 12,
   "metadata": {},
   "outputs": [],
   "source": [
    "edges_hist_avg_path = \"../features/edges_hist_avg.txt\""
   ]
  },
  {
   "cell_type": "code",
   "execution_count": 22,
   "metadata": {},
   "outputs": [],
   "source": [
    "def compute_edge_histogram(image):\n",
    "    gray_image = cv2.cvtColor(image, cv2.COLOR_BGR2GRAY)\n",
    "    edges = cv2.Canny(gray_image, 50, 150)\n",
    "    hist, _ = np.histogram(edges.ravel(), bins=256, range=[0,256])\n",
    "    return hist"
   ]
  },
  {
   "cell_type": "code",
   "execution_count": null,
   "metadata": {},
   "outputs": [],
   "source": [
    "avg_edge_hist = {}\n",
    "\n",
    "with open(edges_hist_avg_path, \"w\") as edges_hist_avg:\n",
    "    for painter in kaggle_painter_names:\n",
    "        edges_hist_avg.write(painter)\n",
    "        edges_hist_avg.write(\"\\n\")\n",
    "\n",
    "        paintings_path = os.path.join(kaggle_train_path, painter)\n",
    "        painter_edge_hist = []\n",
    "\n",
    "        for image_name in os.listdir(paintings_path):\n",
    "            image_path = os.path.join(paintings_path, image_name)\n",
    "            image = cv2.imread(image_path)\n",
    "            edge_hist = compute_edge_histogram(image)\n",
    "            painter_edge_hist.append(edge_hist)\n",
    "\n",
    "        avg_edge_hist[painter] = np.mean(painter_edge_hist, axis=0)\n",
    "        np.savetxt(edges_hist_avg, [avg_edge_hist[painter]], fmt=\"%.6f\")"
   ]
  },
  {
   "cell_type": "markdown",
   "metadata": {},
   "source": [
    "Feature 7: Means of Image Edges Histogram"
   ]
  },
  {
   "cell_type": "code",
   "execution_count": 13,
   "metadata": {},
   "outputs": [],
   "source": [
    "edges_feat_mean_path = \"../features/edges_feat_mean.txt\""
   ]
  },
  {
   "cell_type": "code",
   "execution_count": 23,
   "metadata": {},
   "outputs": [],
   "source": [
    "def compute_edge_mean(image):\n",
    "    gray_image = cv2.cvtColor(image, cv2.COLOR_BGR2GRAY)\n",
    "    edges = cv2.Canny(gray_image, 50, 150)\n",
    "    edge_mean = np.mean(edges)\n",
    "    return edge_mean"
   ]
  },
  {
   "cell_type": "code",
   "execution_count": null,
   "metadata": {},
   "outputs": [],
   "source": [
    "edge_features_means = {}\n",
    "\n",
    "with open(edges_feat_mean_path, \"w\") as edges_feat_mean:\n",
    "    for painter in kaggle_painter_names:\n",
    "        edges_feat_mean.write(painter)\n",
    "        edges_feat_mean.write(\"\\n\")\n",
    "\n",
    "        paintings_path = os.path.join(kaggle_train_path, painter)\n",
    "        painter_edge_means = []\n",
    "\n",
    "        for image_name in os.listdir(paintings_path):\n",
    "            image_path = os.path.join(paintings_path, image_name)\n",
    "            image = cv2.imread(image_path)\n",
    "            edge_mean = compute_edge_mean(image)\n",
    "            painter_edge_means.append(edge_mean)\n",
    "\n",
    "        edge_features_means[painter] = np.mean(painter_edge_means)\n",
    "        np.savetxt(edges_feat_mean, [edge_features_means[painter]], fmt=\"%.6f\")"
   ]
  },
  {
   "cell_type": "markdown",
   "metadata": {},
   "source": [
    "Feature 8: Average of Histogram for S Component From HSV Image"
   ]
  },
  {
   "cell_type": "code",
   "execution_count": 14,
   "metadata": {},
   "outputs": [],
   "source": [
    "s_hsv_avg_path = \"../features/s_hsv_avg.txt\""
   ]
  },
  {
   "cell_type": "code",
   "execution_count": 24,
   "metadata": {},
   "outputs": [],
   "source": [
    "def compute_s_histogram(image):\n",
    "    hsv_image = cv2.cvtColor(image, cv2.COLOR_BGR2HSV)\n",
    "    s_component = hsv_image[:,:,1]\n",
    "    hist, _ = np.histogram(s_component.ravel(), bins=256, range=[0,256])\n",
    "    return hist"
   ]
  },
  {
   "cell_type": "code",
   "execution_count": null,
   "metadata": {},
   "outputs": [],
   "source": [
    "avg_s_hist = {}\n",
    "\n",
    "with open(s_hsv_avg_path, \"w\") as s_hsv_avg:\n",
    "    for painter in kaggle_painter_names:\n",
    "        s_hsv_avg.write(painter)\n",
    "        s_hsv_avg.write(\"\\n\")\n",
    "\n",
    "        paintings_path = os.path.join(kaggle_train_path, painter)\n",
    "        painter_s_hist = []\n",
    "        \n",
    "        for image_name in os.listdir(paintings_path):\n",
    "            image_path = os.path.join(paintings_path, image_name)\n",
    "            image = cv2.imread(image_path)\n",
    "            s_hist = compute_s_histogram(image)\n",
    "            painter_s_hist.append(s_hist)\n",
    "            \n",
    "        avg_s_hist[painter] = np.mean(painter_s_hist, axis=0)\n",
    "        np.savetxt(s_hsv_avg, [avg_s_hist[painter]], fmt=\"%.6f\")"
   ]
  },
  {
   "cell_type": "markdown",
   "metadata": {},
   "source": [
    "Feature 9: Standard Deviation of Histogram for S Component From HSV Image"
   ]
  },
  {
   "cell_type": "code",
   "execution_count": 15,
   "metadata": {},
   "outputs": [],
   "source": [
    "s_hsv_std_path = \"../features/s_hsv_std.txt\""
   ]
  },
  {
   "cell_type": "code",
   "execution_count": null,
   "metadata": {},
   "outputs": [],
   "source": [
    "std_s_hist = {}\n",
    "\n",
    "with open(s_hsv_std_path, \"w\") as s_hsv_std:\n",
    "    for painter in kaggle_painter_names:\n",
    "        s_hsv_std.write(painter)\n",
    "        s_hsv_std.write(\"\\n\")\n",
    "\n",
    "        paintings_path = os.path.join(kaggle_train_path, painter)\n",
    "        painter_s_hist = []\n",
    "        \n",
    "        for image_name in os.listdir(paintings_path):\n",
    "            image_path = os.path.join(paintings_path, image_name)\n",
    "            image = cv2.imread(image_path)\n",
    "            s_hist = compute_s_histogram(image)\n",
    "            painter_s_hist.append(s_hist)\n",
    "            \n",
    "        std_s_hist[painter] = np.std(painter_s_hist, axis=0)\n",
    "        np.savetxt(s_hsv_std, [std_s_hist[painter]], fmt=\"%.6f\")"
   ]
  },
  {
   "cell_type": "markdown",
   "metadata": {},
   "source": [
    "Feature 10: Average of Histogram for B Component From RGB Image"
   ]
  },
  {
   "cell_type": "code",
   "execution_count": 16,
   "metadata": {},
   "outputs": [],
   "source": [
    "b_rgb_avg_path = \"../features/b_rgb_avg.txt\""
   ]
  },
  {
   "cell_type": "code",
   "execution_count": 25,
   "metadata": {},
   "outputs": [],
   "source": [
    "def compute_b_histogram(image):\n",
    "    b, g, r = cv2.split(image)\n",
    "    hist, _ = np.histogram(b.ravel(), bins=256, range=[0,256])\n",
    "    return hist"
   ]
  },
  {
   "cell_type": "code",
   "execution_count": null,
   "metadata": {},
   "outputs": [],
   "source": [
    "avg_b_hist = {}\n",
    "\n",
    "with open(b_rgb_avg_path, \"w\") as b_rgb_avg:\n",
    "    for painter in kaggle_painter_names:\n",
    "        b_rgb_avg.write(painter)\n",
    "        b_rgb_avg.write(\"\\n\")\n",
    "\n",
    "        paintings_path = os.path.join(kaggle_train_path, painter)\n",
    "        painter_b_hist = []\n",
    "        \n",
    "        for image_name in os.listdir(paintings_path):\n",
    "            image_path = os.path.join(paintings_path, image_name)\n",
    "            image = cv2.imread(image_path)\n",
    "            b_hist = compute_b_histogram(image)\n",
    "            painter_b_hist.append(s_hist)\n",
    "            \n",
    "        avg_b_hist[painter] = np.mean(painter_b_hist, axis=0)\n",
    "        np.savetxt(b_rgb_avg, [avg_b_hist[painter]], fmt=\"%.6f\")"
   ]
  },
  {
   "cell_type": "markdown",
   "metadata": {},
   "source": [
    "Feature 11: Standard Deviation of Histogram for B Component From RGB Image"
   ]
  },
  {
   "cell_type": "code",
   "execution_count": 17,
   "metadata": {},
   "outputs": [],
   "source": [
    "b_rgb_std_path = \"../features/b_rgb_std.txt\""
   ]
  },
  {
   "cell_type": "code",
   "execution_count": null,
   "metadata": {},
   "outputs": [],
   "source": [
    "std_b_hist = {}\n",
    "\n",
    "with open(b_rgb_std_path, \"w\") as b_std_avg:\n",
    "    for painter in kaggle_painter_names:\n",
    "        b_std_avg.write(painter)\n",
    "        b_std_avg.write(\"\\n\")\n",
    "\n",
    "        paintings_path = os.path.join(kaggle_train_path, painter)\n",
    "        painter_b_hist = []\n",
    "        \n",
    "        for image_name in os.listdir(paintings_path):\n",
    "            image_path = os.path.join(paintings_path, image_name)\n",
    "            image = cv2.imread(image_path)\n",
    "            b_hist = compute_b_histogram(image)\n",
    "            painter_b_hist.append(s_hist)\n",
    "            \n",
    "        std_b_hist[painter] = np.std(painter_b_hist, axis=0)\n",
    "        np.savetxt(b_std_avg, [std_b_hist[painter]], fmt=\"%.6f\")"
   ]
  },
  {
   "cell_type": "markdown",
   "metadata": {},
   "source": [
    "Preparation of Test Data"
   ]
  },
  {
   "cell_type": "code",
   "execution_count": 7,
   "metadata": {},
   "outputs": [],
   "source": [
    "#For the first way\n",
    "def get_test_by_features():\n",
    "    #epoch_num = 50\n",
    "    test_file_paths = []\n",
    "\n",
    "    \"\"\"\n",
    "    for i in range(epoch_num):\n",
    "        random_painter = random.sample(kaggle_painter_names, 1)[0]\n",
    "        painter_path = f\"../data/test/{random_painter}/\"\n",
    "        painting_names = os.listdir(painter_path)\n",
    "        image1_name, image2_name = random.sample(painting_names, 2)\n",
    "        path1 = os.path.join(painter_path, image1_name)\n",
    "        path2 = os.path.join(painter_path, image2_name)\n",
    "        test_file_paths.append([path1, path2])\n",
    "    \"\"\"\n",
    "\n",
    "    for painter in kaggle_painter_names:\n",
    "        painter_path = f\"../data/test/{painter}/\"\n",
    "        painting_names = os.listdir(painter_path)\n",
    "\n",
    "        for i in range(len(painting_names)-1): #compute for each pair of each painter\n",
    "            image1_name, image2_name = painting_names[i], painting_names[i+1]\n",
    "            path1 = os.path.join(painter_path, image1_name)\n",
    "            path2 = os.path.join(painter_path, image2_name)\n",
    "            test_file_paths.append([path1, path2])\n",
    "\n",
    "    X_test = []\n",
    "    y_test = []\n",
    "\n",
    "    for file_pair in test_file_paths:\n",
    "        path1 = file_pair[0]\n",
    "        path2 = file_pair[1]\n",
    "\n",
    "        image1 = cv2.imread(path1)\n",
    "        image2 = cv2.imread(path2)\n",
    "\n",
    "        lbp_feature1 = compute_lbp(image1)\n",
    "        lbp_feature2 = compute_lbp(image2)\n",
    "        pair_lbp_features = []\n",
    "        pair_lbp_features.append(lbp_feature1)\n",
    "        pair_lbp_features.append(lbp_feature2)\n",
    "        avg_lbp_features = np.mean(pair_lbp_features, axis=0)\n",
    "\n",
    "        std_lbp_features = np.std(pair_lbp_features, axis=0)\n",
    "\n",
    "        pair_gray_hist_features = []\n",
    "        gray_hist1 = compute_gray_histogram(image1)\n",
    "        gray_hist2 = compute_gray_histogram(image2)\n",
    "        pair_gray_hist_features.append(gray_hist1)\n",
    "        pair_gray_hist_features.append(gray_hist2)\n",
    "        gray_hist_features = np.mean(pair_gray_hist_features, axis=0)\n",
    "\n",
    "        pair_edge_features = []\n",
    "        edge_hist1 = compute_edge_histogram(image1)\n",
    "        edge_hist2 = compute_edge_histogram(image2)\n",
    "        pair_edge_features.append(edge_hist1)\n",
    "        pair_edge_features.append(edge_hist2)\n",
    "        edge_hist_features = np.mean(pair_edge_features, axis=0)\n",
    "        \n",
    "        pair_edge_means = []\n",
    "        edge_mean1 = compute_edge_mean(image1)\n",
    "        edge_mean2 = compute_edge_mean(image2)\n",
    "        pair_edge_means.append(edge_mean1)\n",
    "        pair_edge_means.append(edge_mean2)\n",
    "        edge_mean_features = np.mean(pair_edge_means, axis=0)\n",
    "        \n",
    "        pair_s_features = []\n",
    "        s_hist1 = compute_s_histogram(image1)\n",
    "        s_hist2 = compute_s_histogram(image2)\n",
    "        pair_s_features.append(s_hist1)\n",
    "        pair_s_features.append(s_hist2)\n",
    "        avg_s_hist = np.mean(pair_s_features, axis=0)\n",
    "        \n",
    "        std_s_hist = np.std(pair_s_features, axis=0)\n",
    "\n",
    "        pair_b_features = []\n",
    "        b_hist1 = compute_b_histogram(image1)\n",
    "        b_hist2 = compute_b_histogram(image2)\n",
    "        pair_b_features.append(b_hist1)\n",
    "        pair_b_features.append(b_hist2)\n",
    "        avg_b_hist = np.mean(pair_b_features, axis=0)\n",
    "        \n",
    "        std_b_hist = np.std(pair_b_features, axis=0)\n",
    "\n",
    "        pair_concatenated_features = []\n",
    "        pair_concatenated_features.extend(avg_lbp_features)\n",
    "        pair_concatenated_features.extend(std_lbp_features)\n",
    "        pair_concatenated_features.extend(gray_hist_features)\n",
    "        pair_concatenated_features.extend(edge_hist_features)\n",
    "        pair_concatenated_features.append(edge_mean_features)\n",
    "        pair_concatenated_features.extend(avg_s_hist)\n",
    "        pair_concatenated_features.extend(std_s_hist)\n",
    "        pair_concatenated_features.extend(avg_b_hist)\n",
    "        pair_concatenated_features.extend(std_b_hist)\n",
    "        pair_concatenated_features = np.array(pair_concatenated_features)\n",
    "\n",
    "        X_test.append(pair_concatenated_features)\n",
    "        #print(\"len:\", len(pair_concatenated_features))\n",
    "        painter = os.path.basename(os.path.dirname(path1))\n",
    "        y_test.append(painter_ids[painter])\n",
    "\n",
    "    return X_test, y_test"
   ]
  },
  {
   "cell_type": "code",
   "execution_count": null,
   "metadata": {},
   "outputs": [],
   "source": [
    "#For the second way\n",
    "def get_basic_features(test_image_path):\n",
    "    test_image = cv2.imread(test_image_path)\n",
    "    test_image = cv2.resize(test_image, (500, 500))\n",
    "\n",
    "    test_lbp = compute_lbp(test_image)\n",
    "    test_gray_hist = compute_gray_histogram(test_image)\n",
    "    test_edge_hist = compute_edge_histogram(test_image)\n",
    "    test_edge_mean = compute_edge_mean(test_image)\n",
    "    test_s_hist = compute_s_histogram(test_image)\n",
    "    test_b_hist = compute_b_histogram(test_image)\n",
    "\n",
    "    features_for_test = []\n",
    "    features_for_test.extend(test_lbp) \n",
    "    features_for_test.extend(test_gray_hist) \n",
    "    features_for_test.extend(test_edge_hist) \n",
    "    features_for_test.append(test_edge_mean)\n",
    "    features_for_test.extend(test_s_hist)\n",
    "    features_for_test.extend(test_s_hist)\n",
    "    features_for_test.extend(test_b_hist)\n",
    "    features_for_test.extend(test_b_hist)\n",
    "\n",
    "    return features_for_test"
   ]
  },
  {
   "cell_type": "markdown",
   "metadata": {},
   "source": [
    "# First Way"
   ]
  },
  {
   "cell_type": "markdown",
   "metadata": {},
   "source": [
    "Train Data 1: Using the computed features (including averages, standard deviations etc.)"
   ]
  },
  {
   "cell_type": "code",
   "execution_count": 18,
   "metadata": {},
   "outputs": [],
   "source": [
    "concatenated_features_path = \"../features/concatenated_features.txt\"\n",
    "\n",
    "concatenated_features = {}\n",
    "\n",
    "#Concatenate features for each painter\n",
    "for painter in kaggle_painter_names:\n",
    "    painter_features = []\n",
    "\n",
    "    with open(lbp_avg_path, \"r\") as lbp_avg_file:\n",
    "        for line in lbp_avg_file:\n",
    "            if line.strip() == painter:\n",
    "                next_line = lbp_avg_file.readline().strip()\n",
    "                average_lbp_features = np.fromstring(next_line, sep=\" \")\n",
    "                painter_features.extend(average_lbp_features)\n",
    "                break\n",
    "\n",
    "    with open(lbp_std_path, \"r\") as lbp_std_file:\n",
    "        for line in lbp_std_file:\n",
    "            if line.strip() == painter:\n",
    "                next_line = lbp_std_file.readline().strip()\n",
    "                std_lbp_features = np.fromstring(next_line, sep=\" \")\n",
    "                painter_features.extend(std_lbp_features)\n",
    "                break\n",
    "\n",
    "    with open(gray_hist_avg_path, \"r\") as gray_hist_file:\n",
    "        for line in gray_hist_file:\n",
    "            if line.strip() == painter:\n",
    "                next_line = gray_hist_file.readline().strip()\n",
    "                gray_hist_avg = np.fromstring(next_line, sep=\" \")\n",
    "                painter_features.extend(gray_hist_avg)\n",
    "                break\n",
    "\n",
    "    with open(edges_hist_avg_path, \"r\") as edges_hist_file:\n",
    "        for line in edges_hist_file:\n",
    "            if line.strip() == painter:\n",
    "                next_line = edges_hist_file.readline().strip()\n",
    "                edges_hist_avg = np.fromstring(next_line, sep=\" \")\n",
    "                painter_features.extend(edges_hist_avg)\n",
    "                break\n",
    "\n",
    "    with open(edges_feat_mean_path, \"r\") as edges_feat_mean_file:\n",
    "        for line in edges_feat_mean_file:\n",
    "            if line.strip() == painter:\n",
    "                next_line = edges_feat_mean_file.readline().strip()\n",
    "                edge_feat_mean = np.fromstring(next_line, sep=\" \")\n",
    "                painter_features.extend(edge_feat_mean)\n",
    "                break\n",
    "\n",
    "    with open(s_hsv_avg_path, \"r\") as s_hsv_avg_file:\n",
    "        for line in s_hsv_avg_file:\n",
    "            if line.strip() == painter:\n",
    "                next_line = s_hsv_avg_file.readline().strip()\n",
    "                s_hsv_avg = np.fromstring(next_line, sep=\" \")\n",
    "                painter_features.extend(s_hsv_avg)\n",
    "                break\n",
    "\n",
    "    with open(s_hsv_std_path, \"r\") as s_hsv_std_file:\n",
    "        for line in s_hsv_std_file:\n",
    "            if line.strip() == painter:\n",
    "                next_line = s_hsv_std_file.readline().strip()\n",
    "                s_hsv_std = np.fromstring(next_line, sep=\" \")\n",
    "                painter_features.extend(s_hsv_std)\n",
    "                break\n",
    "\n",
    "    with open(b_rgb_avg_path, \"r\") as b_rgb_avg_file:\n",
    "        for line in b_rgb_avg_file:\n",
    "            if line.strip() == painter:\n",
    "                next_line = b_rgb_avg_file.readline().strip()\n",
    "                b_rgb_avg = np.fromstring(next_line, sep=\" \")\n",
    "                painter_features.extend(b_rgb_avg)\n",
    "                break\n",
    "\n",
    "    with open(b_rgb_std_path, \"r\") as b_rgb_std_file:\n",
    "        for line in b_rgb_std_file:\n",
    "            if line.strip() == painter:\n",
    "                next_line = b_rgb_std_file.readline().strip()\n",
    "                b_rgb_std = np.fromstring(next_line, sep=\" \")\n",
    "                painter_features.extend(b_rgb_std)\n",
    "                break\n",
    "\n",
    "    #Add the corresponding features for that painter\n",
    "    concatenated_features[painter] = np.array(painter_features)\n",
    "\n",
    "#Save concatenated features to the file\n",
    "with open(concatenated_features_path, \"w\") as concatenated_file:\n",
    "    for painter, features in concatenated_features.items():\n",
    "        concatenated_file.write(painter + \"\\n\")\n",
    "        np.savetxt(concatenated_file, [features], fmt=\"%.6f\")"
   ]
  },
  {
   "cell_type": "markdown",
   "metadata": {},
   "source": [
    "Obtaining the test data's features"
   ]
  },
  {
   "cell_type": "code",
   "execution_count": 26,
   "metadata": {},
   "outputs": [],
   "source": [
    "X_test_1, y_test_1 = get_test_by_features()"
   ]
  },
  {
   "cell_type": "markdown",
   "metadata": {},
   "source": [
    "Train Data 1: Obtain the Data"
   ]
  },
  {
   "cell_type": "code",
   "execution_count": 27,
   "metadata": {},
   "outputs": [],
   "source": [
    "X_train_1 = []\n",
    "y_train_1 = []\n",
    "\n",
    "for painter in kaggle_painter_names:\n",
    "    y_train_1.append([painter_ids[painter]])\n",
    "\n",
    "with open(concatenated_features_path, \"r\") as concatenated_file:\n",
    "    lines = concatenated_file.readlines()\n",
    "    for i in range(0, len(lines), 2):  #Every other line is a painter name\n",
    "        painter_name = lines[i].strip()\n",
    "        if painter_name in kaggle_painter_names:\n",
    "            features = np.fromstring(lines[i + 1].strip(), sep=\" \")\n",
    "            X_train_1.append(features)\n",
    "\n",
    "X_train_1 = np.array(X_train_1)\n",
    "y_train_1 = np.array(y_train_1)"
   ]
  },
  {
   "cell_type": "markdown",
   "metadata": {},
   "source": [
    "ML Model 1: MLP"
   ]
  },
  {
   "cell_type": "code",
   "execution_count": 28,
   "metadata": {},
   "outputs": [
    {
     "name": "stderr",
     "output_type": "stream",
     "text": [
      "c:\\Users\\user\\AppData\\Local\\Programs\\Python\\Python39\\lib\\site-packages\\sklearn\\neural_network\\_multilayer_perceptron.py:1101: DataConversionWarning: A column-vector y was passed when a 1d array was expected. Please change the shape of y to (n_samples, ), for example using ravel().\n",
      "  y = column_or_1d(y, warn=True)\n",
      "c:\\Users\\user\\AppData\\Local\\Programs\\Python\\Python39\\lib\\site-packages\\sklearn\\metrics\\_classification.py:1497: UndefinedMetricWarning: Precision is ill-defined and being set to 0.0 in labels with no predicted samples. Use `zero_division` parameter to control this behavior.\n",
      "  _warn_prf(average, modifier, f\"{metric.capitalize()} is\", len(result))\n",
      "c:\\Users\\user\\AppData\\Local\\Programs\\Python\\Python39\\lib\\site-packages\\sklearn\\metrics\\_classification.py:1497: UndefinedMetricWarning: Precision is ill-defined and being set to 0.0 in labels with no predicted samples. Use `zero_division` parameter to control this behavior.\n",
      "  _warn_prf(average, modifier, f\"{metric.capitalize()} is\", len(result))\n",
      "c:\\Users\\user\\AppData\\Local\\Programs\\Python\\Python39\\lib\\site-packages\\sklearn\\metrics\\_classification.py:1497: UndefinedMetricWarning: Precision is ill-defined and being set to 0.0 in labels with no predicted samples. Use `zero_division` parameter to control this behavior.\n",
      "  _warn_prf(average, modifier, f\"{metric.capitalize()} is\", len(result))\n"
     ]
    }
   ],
   "source": [
    "mlp_model = MLPClassifier(hidden_layer_sizes=(100, 50), max_iter=500, random_state=42)\n",
    "\n",
    "mlp_model.fit(X_train_1, y_train_1)\n",
    "y_pred_mlp_1 = mlp_model.predict(X_test_1)\n",
    "\n",
    "results_mlp_path_1 = \"../results/results_mlp_1.txt\"\n",
    "\n",
    "accuracy_mlp_1 = accuracy_score(y_test_1, y_pred_mlp_1)\n",
    "report_mlp_1 = classification_report(y_test_1, y_pred_mlp_1)\n",
    "\n",
    "with open(results_mlp_path_1, \"w\") as results_mlp:\n",
    "    results_mlp.write(report_mlp_1)\n",
    "    results_mlp.write(\"\\n\")\n",
    "    results_mlp.write(f\"Accuracy: {accuracy_mlp_1}\")"
   ]
  },
  {
   "cell_type": "markdown",
   "metadata": {},
   "source": [
    "ML Model 2: SVM"
   ]
  },
  {
   "cell_type": "code",
   "execution_count": 29,
   "metadata": {},
   "outputs": [
    {
     "name": "stderr",
     "output_type": "stream",
     "text": [
      "c:\\Users\\user\\AppData\\Local\\Programs\\Python\\Python39\\lib\\site-packages\\sklearn\\utils\\validation.py:1229: DataConversionWarning: A column-vector y was passed when a 1d array was expected. Please change the shape of y to (n_samples, ), for example using ravel().\n",
      "  y = column_or_1d(y, warn=True)\n",
      "c:\\Users\\user\\AppData\\Local\\Programs\\Python\\Python39\\lib\\site-packages\\sklearn\\metrics\\_classification.py:1497: UndefinedMetricWarning: Precision is ill-defined and being set to 0.0 in labels with no predicted samples. Use `zero_division` parameter to control this behavior.\n",
      "  _warn_prf(average, modifier, f\"{metric.capitalize()} is\", len(result))\n",
      "c:\\Users\\user\\AppData\\Local\\Programs\\Python\\Python39\\lib\\site-packages\\sklearn\\metrics\\_classification.py:1497: UndefinedMetricWarning: Precision is ill-defined and being set to 0.0 in labels with no predicted samples. Use `zero_division` parameter to control this behavior.\n",
      "  _warn_prf(average, modifier, f\"{metric.capitalize()} is\", len(result))\n",
      "c:\\Users\\user\\AppData\\Local\\Programs\\Python\\Python39\\lib\\site-packages\\sklearn\\metrics\\_classification.py:1497: UndefinedMetricWarning: Precision is ill-defined and being set to 0.0 in labels with no predicted samples. Use `zero_division` parameter to control this behavior.\n",
      "  _warn_prf(average, modifier, f\"{metric.capitalize()} is\", len(result))\n"
     ]
    }
   ],
   "source": [
    "svm_model = SVC(kernel='linear', random_state=42)\n",
    "\n",
    "svm_model.fit(X_train_1, y_train_1)\n",
    "y_pred_svm_1 = svm_model.predict(X_test_1)\n",
    "\n",
    "accuracy_svm_1 = accuracy_score(y_test_1, y_pred_svm_1)\n",
    "report_svm_1 = classification_report(y_test_1, y_pred_svm_1)\n",
    "\n",
    "results_svm_path_1 = \"../results/results_svm_1.txt\"\n",
    "\n",
    "with open(results_svm_path_1, \"w\") as results_svm:\n",
    "    results_svm.write(report_svm_1)\n",
    "    results_svm.write(\"\\n\")\n",
    "    results_svm.write(f\"Accuracy: {accuracy_svm_1}\")"
   ]
  },
  {
   "cell_type": "markdown",
   "metadata": {},
   "source": [
    "ML Model 3: XGBoost"
   ]
  },
  {
   "cell_type": "code",
   "execution_count": 30,
   "metadata": {},
   "outputs": [
    {
     "name": "stderr",
     "output_type": "stream",
     "text": [
      "c:\\Users\\user\\AppData\\Local\\Programs\\Python\\Python39\\lib\\site-packages\\sklearn\\metrics\\_classification.py:1497: UndefinedMetricWarning: Precision is ill-defined and being set to 0.0 in labels with no predicted samples. Use `zero_division` parameter to control this behavior.\n",
      "  _warn_prf(average, modifier, f\"{metric.capitalize()} is\", len(result))\n",
      "c:\\Users\\user\\AppData\\Local\\Programs\\Python\\Python39\\lib\\site-packages\\sklearn\\metrics\\_classification.py:1497: UndefinedMetricWarning: Precision is ill-defined and being set to 0.0 in labels with no predicted samples. Use `zero_division` parameter to control this behavior.\n",
      "  _warn_prf(average, modifier, f\"{metric.capitalize()} is\", len(result))\n",
      "c:\\Users\\user\\AppData\\Local\\Programs\\Python\\Python39\\lib\\site-packages\\sklearn\\metrics\\_classification.py:1497: UndefinedMetricWarning: Precision is ill-defined and being set to 0.0 in labels with no predicted samples. Use `zero_division` parameter to control this behavior.\n",
      "  _warn_prf(average, modifier, f\"{metric.capitalize()} is\", len(result))\n"
     ]
    }
   ],
   "source": [
    "xgb_model = xgb.XGBClassifier(random_state=42)\n",
    "\n",
    "xgb_model.fit(X_train_1, y_train_1)\n",
    "y_pred_xgb_1 = xgb_model.predict(X_test_1)\n",
    "\n",
    "accuracy_xgb_1 = accuracy_score(y_test_1, y_pred_xgb_1)\n",
    "report_xgb_1 = classification_report(y_test_1, y_pred_xgb_1)\n",
    "\n",
    "results_xgb_path_1 = \"../results/results_xgb_1.txt\"\n",
    "\n",
    "with open(results_xgb_path_1, \"w\") as results_xgb:\n",
    "    results_xgb.write(report_xgb_1)\n",
    "    results_xgb.write(\"\\n\")\n",
    "    results_xgb.write(f\"Accuracy: {accuracy_xgb_1}\")"
   ]
  },
  {
   "cell_type": "markdown",
   "metadata": {},
   "source": [
    "# Second Way"
   ]
  },
  {
   "cell_type": "markdown",
   "metadata": {},
   "source": [
    "Test Data's Features Obtaining for 2nd Way"
   ]
  },
  {
   "cell_type": "code",
   "execution_count": null,
   "metadata": {},
   "outputs": [],
   "source": [
    "X_test_2 = []\n",
    "y_test_2 = []\n",
    "\n",
    "for painter in kaggle_painter_names:\n",
    "    test_paintings_path = os.path.join(kaggle_test_path, painter)\n",
    "    \n",
    "    for test_image_name in os.listdir(test_paintings_path):\n",
    "        test_image_path = os.path.join(test_paintings_path, test_image_name)\n",
    "        test_features = get_basic_features(test_image_path)\n",
    "        X_test_2.append(test_features)\n",
    "        y_test_2.append(painter_ids[painter])\n",
    "\n",
    "X_test_2 = np.array(X_test_2)\n",
    "y_test_2 = np.array(y_test_2)"
   ]
  },
  {
   "cell_type": "markdown",
   "metadata": {},
   "source": [
    "Train Data 2: Computing features excluding averages, standard deviations etc."
   ]
  },
  {
   "cell_type": "code",
   "execution_count": null,
   "metadata": {},
   "outputs": [],
   "source": [
    "X_train_2 = []\n",
    "y_train_2 = []\n",
    "\n",
    "for painter in kaggle_painter_names:\n",
    "    train_paintings_path = os.path.join(kaggle_train_path, painter)\n",
    "    \n",
    "    for train_image_name in os.listdir(train_paintings_path):\n",
    "        train_image_path = os.path.join(train_paintings_path, train_image_name)\n",
    "        train_features = get_basic_features(train_image_path)\n",
    "        X_train_2.append(train_features)\n",
    "        y_train_2.append(painter_ids[painter])\n",
    "\n",
    "X_train_2 = np.array(X_train_2)\n",
    "y_train_2 = np.array(y_train_2)"
   ]
  },
  {
   "cell_type": "markdown",
   "metadata": {},
   "source": [
    "ML Model 1: MLP"
   ]
  },
  {
   "cell_type": "code",
   "execution_count": null,
   "metadata": {},
   "outputs": [],
   "source": [
    "mlp_model = MLPClassifier(hidden_layer_sizes=(100, 50), max_iter=500, random_state=42)\n",
    "\n",
    "mlp_model.fit(X_train_2, y_train_2)\n",
    "y_pred_mlp_2 = mlp_model.predict(X_test_2)\n",
    "\n",
    "results_mlp_path_2 = \"../results/results_mlp_2.txt\"\n",
    "\n",
    "accuracy_mlp_2 = accuracy_score(y_test_2, y_pred_mlp_2)\n",
    "report_mlp_2 = classification_report(y_test_2, y_pred_mlp_2)\n",
    "\n",
    "with open(results_mlp_path_2, \"w\") as results_mlp:\n",
    "    results_mlp.write(report_mlp_1)\n",
    "    results_mlp.write(\"\\n\")\n",
    "    results_mlp.write(f\"Accuracy: {accuracy_mlp_2}\")"
   ]
  },
  {
   "cell_type": "markdown",
   "metadata": {},
   "source": [
    "ML Model 2: SVM"
   ]
  },
  {
   "cell_type": "code",
   "execution_count": null,
   "metadata": {},
   "outputs": [],
   "source": [
    "svm_model = SVC(kernel='linear', random_state=42)\n",
    "\n",
    "svm_model.fit(X_train_2, y_train_2)\n",
    "y_pred_svm_2 = svm_model.predict(X_test_2)\n",
    "\n",
    "accuracy_svm_2 = accuracy_score(y_test_2, y_pred_svm_2)\n",
    "report_svm_2 = classification_report(y_test_2, y_pred_svm_2)\n",
    "\n",
    "results_svm_path_2 = \"../results/results_svm_2.txt\"\n",
    "\n",
    "with open(results_svm_path_2, \"w\") as results_svm:\n",
    "    results_svm.write(report_svm_2)\n",
    "    results_svm.write(\"\\n\")\n",
    "    results_svm.write(f\"Accuracy: {accuracy_svm_2}\")"
   ]
  },
  {
   "cell_type": "markdown",
   "metadata": {},
   "source": [
    "ML Model 3: XGBoost"
   ]
  },
  {
   "cell_type": "code",
   "execution_count": null,
   "metadata": {},
   "outputs": [],
   "source": [
    "xgb_model = xgb.XGBClassifier(random_state=42)\n",
    "\n",
    "xgb_model.fit(X_train_2, y_train_2)\n",
    "y_pred_xgb_2 = xgb_model.predict(X_test_2)\n",
    "\n",
    "accuracy_xgb_2 = accuracy_score(y_test_2, y_pred_xgb_2)\n",
    "report_xgb_2 = classification_report(y_test_2, y_pred_xgb_2)\n",
    "\n",
    "results_xgb_path_2 = \"../results/results_xgb_2.txt\"\n",
    "\n",
    "with open(results_xgb_path_2, \"w\") as results_xgb:\n",
    "    results_xgb.write(report_xgb_2)\n",
    "    results_xgb.write(\"\\n\")\n",
    "    results_xgb.write(f\"Accuracy: {accuracy_xgb_2}\")"
   ]
  }
 ],
 "metadata": {
  "kernelspec": {
   "display_name": "Python 3",
   "language": "python",
   "name": "python3"
  },
  "language_info": {
   "codemirror_mode": {
    "name": "ipython",
    "version": 3
   },
   "file_extension": ".py",
   "mimetype": "text/x-python",
   "name": "python",
   "nbconvert_exporter": "python",
   "pygments_lexer": "ipython3",
   "version": "3.9.1"
  }
 },
 "nbformat": 4,
 "nbformat_minor": 2
}
